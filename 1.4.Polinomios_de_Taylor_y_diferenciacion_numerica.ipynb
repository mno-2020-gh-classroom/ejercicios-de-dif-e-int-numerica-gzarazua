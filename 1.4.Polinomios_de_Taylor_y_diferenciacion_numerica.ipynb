{
 "cells": [
  {
   "cell_type": "markdown",
   "metadata": {},
   "source": [
    "**PRUEBA**"
   ]
  },
  {
   "cell_type": "markdown",
   "metadata": {},
   "source": [
    "**Notas para contenedor de docker:**"
   ]
  },
  {
   "cell_type": "markdown",
   "metadata": {},
   "source": [
    "Comando de docker para ejecución de la nota de forma local:\n",
    "\n",
    "nota: cambiar `<ruta a mi directorio>` por la ruta de directorio que se desea mapear a `/datos` dentro del contenedor de docker.\n",
    "\n",
    "```\n",
    "docker run --rm -v <ruta a mi directorio>:/datos --name jupyterlab_r_kernel_local -p 8888:8888 -d palmoreck/jupyterlab_r_kernel:1.1.0\n",
    "```\n",
    "\n",
    "password para jupyterlab: `qwerty`\n",
    "\n",
    "Detener el contenedor de docker:\n",
    "\n",
    "```\n",
    "docker stop jupyterlab_r_kernel_local\n",
    "```\n"
   ]
  },
  {
   "cell_type": "markdown",
   "metadata": {},
   "source": [
    "Documentación de la imagen de docker `palmoreck/jupyterlab_r_kernel:1.1.0` en [liga](https://github.com/palmoreck/dockerfiles/tree/master/jupyterlab/r_kernel)."
   ]
  },
  {
   "cell_type": "markdown",
   "metadata": {},
   "source": [
    "---"
   ]
  },
  {
   "cell_type": "markdown",
   "metadata": {},
   "source": [
    "Nota generada a partir de la [liga1](https://www.dropbox.com/s/jfrxanjls8kndjp/Diferenciacion_e_Integracion.pdf?dl=0), [liga2](https://www.dropbox.com/s/mmd1uzvwhdwsyiu/4.3.2.Teoria_de_convexidad_Funciones_convexas.pdf?dl=0) e inicio de [liga3](https://www.dropbox.com/s/ko86cce1olbtsbk/4.3.1.Teoria_de_convexidad_Conjuntos_convexos.pdf?dl=0)."
   ]
  },
  {
   "cell_type": "markdown",
   "metadata": {},
   "source": [
    "# Problema: ¿Cómo aproximar una función $f$ en un punto $x_1$?"
   ]
  },
  {
   "cell_type": "markdown",
   "metadata": {},
   "source": [
    "Si $f$ es continuamente diferenciable en $x_0$ y $f^{(1)}, f^{(2)}$ existen y están acotadas en $x_0$ entonces:\n",
    "\n",
    "$$f(x_1) \\approx f(x_0) + f^{(1)}(x_0)(x_1-x_0)$$"
   ]
  },
  {
   "cell_type": "markdown",
   "metadata": {},
   "source": [
    "y se llama **aproximación de orden 1**. Ver final de esta nota para definición de continuidad, diferenciabilidad y propiedades\n",
    "\n",
    "**Obs:** obsérvese que lo anterior requiere de los valores: $x_0, x_1, f(x_0), f^{(1)}(x_0)$. Esta aproximación tiene un error de **orden** $2$ pues su error es **proporcional** al cuadrado del ancho del intervalo: $h=x_1-x_0$, esto es, si reducimos a la mitad $h$ entonces el error se reduce en una cuarta parte.\n",
    "\n",
    "Otra aproximación más simple sería:\n",
    "\n",
    "$$f(x_1) \\approx f(x_0)$$\n",
    "\n",
    "lo cual sólo requiere del conocimiento de $f(x_0)$ y se llama aproximación de **orden** $0$, sin embargo esta aproximación tiene un error de **orden** $1$ pues este es proporcional a $h$ , esto es, al reducir a la mitad $h$ se reduce a la mitad el error."
   ]
  },
  {
   "cell_type": "markdown",
   "metadata": {},
   "source": [
    "Estos errores los llamamos errores por **truncamiento**. Utilizamos la notación \"O grande\" $\\mathcal{O}(\\cdot)$ para escribir lo anterior:\n",
    "\n",
    "$$f(x)-f(x_0)=\\mathcal{O}(h)$$\n",
    "\n",
    "con la variable $h=x-x_0$. Análogamente:"
   ]
  },
  {
   "cell_type": "markdown",
   "metadata": {},
   "source": [
    "$$f(x)-(f(x_0)+f^{(1)}(x_0)(x-x_0)) = \\mathcal{O}(h^2).$$"
   ]
  },
  {
   "cell_type": "markdown",
   "metadata": {},
   "source": [
    "**Obs:** no confundir órdenes de  una aproximación con órdenes de error."
   ]
  },
  {
   "cell_type": "markdown",
   "metadata": {},
   "source": [
    "Otras aproximaciones a una función se pueden realizar con:\n",
    "\n",
    "* Interpoladores polinomiales (representación por Vandermonde, Newton, Lagrange)."
   ]
  },
  {
   "cell_type": "markdown",
   "metadata": {},
   "source": [
    "# Aproximación a una función por el teorema de Taylor"
   ]
  },
  {
   "cell_type": "markdown",
   "metadata": {},
   "source": [
    "En esta sección se presenta el teorema de Taylor, el cual, bajo ciertas hipótesis nos proporciona una expansión de una función alrededor de un punto. Este teorema será utilizado en diferenciación e integración numérica. El teorema es el siguiente:"
   ]
  },
  {
   "cell_type": "markdown",
   "metadata": {},
   "source": [
    "Sea $f: \\mathbb{R} \\rightarrow \\mathbb{R}$, $f \\in \\mathcal{C}^n([a,b])$ tal que $f^{(n+1)}$ existe en [a,b]. Si $x_0 \\in [a,b]$ entonces $\\forall x \\in [a,b]$ se tiene: $f(x) = P_n(x) + R_n(x)$ donde: \n",
    "\n",
    "$$P_n(x) = \\displaystyle \\sum_{k=0}^n \\frac{f^{(k)}(x_0)(x-x_0)^k}{k!} \\quad (f^{(0)} = f)$$ y $$R_n(x) = \\frac{f^{(n+1)}(\\xi_x)(x-x_0)^{(n+1)}}{(n+1)!}$$ con $\\xi_x$ entre $x_0, x$ y $x_0$ se llama centro. Ver final de esta nota para definición del conjunto $\\mathcal{C}^n([a,b])$."
   ]
  },
  {
   "cell_type": "markdown",
   "metadata": {},
   "source": [
    "**Comentarios:**\n",
    "\n",
    "* El teorema de Taylor nos dice que cualquier función suave (función en $\\mathcal{C}^n)$ se le puede aproximar por un polinomio en el intervalo $[a,b]$, de hecho $f(x) \\approx P_n(x)$.\n",
    "\n",
    "* El teorema de Taylor es una generalización del [teorema del valor medio para derivadas](https://en.wikipedia.org/wiki/Mean_value_theorem)\n",
    "\n",
    "* $P_n(x)$ se le llama polinomio de Taylor alrededor de $x_0$ de orden $n$ y $R_n(x)$ es llamado residuo de Taylor alrededor de $x_0$ de orden $n$, tiene otras expresiones para representarlo y la que se utiliza en el enunciado anterior es en su forma de Lagrange (ver [liga](https://en.wikipedia.org/wiki/Taylor%27s_theorem) para otras expresiones del residuo).\n",
    "\n",
    "* $\\xi_x$ es un punto entre $x_0, x$ desconocido y está en función de $x$ (por eso se le escribe un subíndice).\n",
    "\n",
    "* Una forma del teorema de Taylor es escribirlo definiendo a la variable $h=x-x_0$:\n",
    "\n",
    "$$f(x) = f(x_0+h) = P_n(h) + R_n(h) = \\displaystyle \\sum_{k=0}^n \\frac{f^{(k)}(x_0)h^k}{k!} + \\frac{f^{(n+1)}(\\xi_h)h^{n+1}}{(n+1)!}$$\n",
    "\n",
    "y si $f^{(n+1)}$ es acotada, escribimos: $R_n(h) = \\mathcal{O}(h^{n+1})$.\n"
   ]
  },
  {
   "cell_type": "markdown",
   "metadata": {},
   "source": [
    "**Ejemplo: graficar la función y los polinomios de Taylor constante, lineal y cuadrático en una sola gráfica con `ggplot2` en el intervalo [1,2] para la función $\\frac{1}{x}$ con centro en $x_0=1.5$. ¿Cuánto es la aproximación de los polinomios en x=1.9? (para esta pregunta calcula el error relativo de tus aproximaciones).**"
   ]
  },
  {
   "cell_type": "markdown",
   "metadata": {},
   "source": [
    "Obtengamos los polinomios de Taylor de orden $n$ con $n \\in \\{0,1,2\\}$ y centro en $x_0=1.5$ para la función $\\frac{1}{x}$ en el intervalo $[1,2]$. Los polinomios de Taylor son: "
   ]
  },
  {
   "cell_type": "markdown",
   "metadata": {},
   "source": [
    "$$P_0(x) = f(x_0) = \\frac{2}{3} \\quad \\text{(constante)}$$"
   ]
  },
  {
   "cell_type": "markdown",
   "metadata": {},
   "source": [
    "$$P_1(x) = f(x_0) + f^{(1)}(x_0)(x-x_0) = \\frac{2}{3} - \\frac{1}{x_0^2}(x-x_0) \\quad \\text{(lineal)}$$"
   ]
  },
  {
   "cell_type": "markdown",
   "metadata": {},
   "source": [
    "$$P_2(x) = f(x_0) + f^{(1)}(x_0)(x-x_0) + \\frac{f^{(2)}(x_0)(x-x_0)^2}{2} = \\frac{2}{3} - \\frac{1}{x_0^2}(x-x_0) + \\frac{2}{x_0^3}(x-x_0)^2 \\quad \\text{(cuadrático)}$$"
   ]
  },
  {
   "cell_type": "code",
   "execution_count": 1,
   "metadata": {},
   "outputs": [],
   "source": [
    "library(ggplot2)"
   ]
  },
  {
   "cell_type": "code",
   "execution_count": 2,
   "metadata": {},
   "outputs": [],
   "source": [
    "options(repr.plot.width=6, repr.plot.height=6) #esta línea sólo se ejecuta para jupyterlab con R"
   ]
  },
  {
   "cell_type": "code",
   "execution_count": 3,
   "metadata": {},
   "outputs": [],
   "source": [
    "Aprox_Taylor <- function(x,centro,n){\n",
    "    length_x = length(x)\n",
    "    evaluacion = rep(0,length_x)\n",
    "    for(j in 1:length_x){\n",
    "        constante = centro^(-2)\n",
    "        evaluacion[j] = constante\n",
    "        for(k in 1:n)\n",
    "            constante = -1*centro^(-1)*(x[j]-centro)*constante\n",
    "            evaluacion[j] = evaluacion[j]+(k+1)*constante\n",
    "    }\n",
    "    evaluacion\n",
    "}"
   ]
  },
  {
   "cell_type": "code",
   "execution_count": 4,
   "metadata": {},
   "outputs": [],
   "source": [
    "x0<-1.5\n",
    "x<- seq(from=1,to=2,by=.005)\n",
    "n<-c(0,1,2)\n",
    "f<-function(z)1/z^2\n",
    "y<-f(x)\n",
    "y_Taylor_0<-1/x0^2*rep(1,length(x))\n",
    "y_Taylor_1<-Aprox_Taylor(x,x0,1)\n",
    "y_Taylor_2<-Aprox_Taylor(x,x0,2)"
   ]
  },
  {
   "cell_type": "code",
   "execution_count": 5,
   "metadata": {},
   "outputs": [],
   "source": [
    "gg <- ggplot()"
   ]
  },
  {
   "cell_type": "code",
   "execution_count": 6,
   "metadata": {},
   "outputs": [
    {
     "data": {
      "image/png": "[encoded data removed]",
      "text/plain": [
       "plot without title"
      ]
     },
     "metadata": {
      "image/png": {
       "height": 360,
       "width": 360
      }
     },
     "output_type": "display_data"
    }
   ],
   "source": [
    "gg+\n",
    "geom_line(aes(x=x,y=y,color='f(x)')) + \n",
    "geom_line(aes(x=x,y=y_Taylor_0,color='constante'))+\n",
    "geom_line(aes(x=x,y=y_Taylor_1,color='lineal')) + \n",
    "geom_line(aes(x=x,y=y_Taylor_2,color='cuadratico')) + \n",
    "geom_point(aes(x=x0, y=f(x0)), color='blue',size=3)"
   ]
  },
  {
   "cell_type": "code",
   "execution_count": 7,
   "metadata": {},
   "outputs": [],
   "source": [
    "err_relativo<-function(aprox,obj){\n",
    "    abs(aprox-obj)/abs(obj)\n",
    "}"
   ]
  },
  {
   "cell_type": "code",
   "execution_count": 8,
   "metadata": {},
   "outputs": [
    {
     "name": "stdout",
     "output_type": "stream",
     "text": [
      "[1] \"error relativo polinomio constante\"\n"
     ]
    },
    {
     "data": {
      "text/html": [
       "0.604444444444444"
      ],
      "text/latex": [
       "0.604444444444444"
      ],
      "text/markdown": [
       "0.604444444444444"
      ],
      "text/plain": [
       "[1] 0.6044444"
      ]
     },
     "metadata": {},
     "output_type": "display_data"
    },
    {
     "name": "stdout",
     "output_type": "stream",
     "text": [
      "[1] \"error relativo polinomio lineal\"\n"
     ]
    },
    {
     "data": {
      "text/html": [
       "0.251259259259259"
      ],
      "text/latex": [
       "0.251259259259259"
      ],
      "text/markdown": [
       "0.251259259259259"
      ],
      "text/plain": [
       "[1] 0.2512593"
      ]
     },
     "metadata": {},
     "output_type": "display_data"
    },
    {
     "name": "stdout",
     "output_type": "stream",
     "text": [
      "[1] \"error relativo polinomio cuadrático\"\n"
     ]
    },
    {
     "data": {
      "text/html": [
       "0.946725925925926"
      ],
      "text/latex": [
       "0.946725925925926"
      ],
      "text/markdown": [
       "0.946725925925926"
      ],
      "text/plain": [
       "[1] 0.9467259"
      ]
     },
     "metadata": {},
     "output_type": "display_data"
    }
   ],
   "source": [
    "x_obj=1.9\n",
    "f_x_obj=f(x_obj)\n",
    "print('error relativo polinomio constante')\n",
    "err_relativo(1/x0^2,f_x_obj)\n",
    "print('error relativo polinomio lineal')\n",
    "err_relativo(Aprox_Taylor(x_obj,x0,1),f_x_obj)\n",
    "print('error relativo polinomio cuadrático')\n",
    "err_relativo(Aprox_Taylor(x_obj,x0,2),f_x_obj)"
   ]
  },
  {
   "cell_type": "markdown",
   "metadata": {},
   "source": [
    "**Pregunta:** ¿por qué se tiene mejor aproximación con un polinomio constante o lineal que con un polinomio cuadrático? ¿no deberíamos tener menor error al añadir más y más términos en el polinomio de Taylor? ¿de qué depende tener una buena aproximación al utilizar polinomios de Taylor para una función $f$ en general?."
   ]
  },
  {
   "cell_type": "markdown",
   "metadata": {},
   "source": [
    "**Ejercicio:** Aproximar $f(1)$ con polinomios de Taylor de orden $0,1,2,3,4$ si $f(x)=-0.1x^4-0.15x^3-0.5x^2-0.25x+1.2$ con centro en $x0=0$. Calcula errores relativos de tus aproximaciones. Realiza las gráficas de cada polinomio en el intervalo $[0,1]$ con `ggplot2`. Observa que $R_5(x)$ es cero."
   ]
  },
  {
   "cell_type": "code",
   "execution_count": 1,
   "metadata": {},
   "outputs": [
    {
     "name": "stderr",
     "output_type": "stream",
     "text": [
      "-- \u001b[1mAttaching packages\u001b[22m --------------------------------------- tidyverse 1.3.0 --\n",
      "\n",
      "\u001b[32mv\u001b[39m \u001b[34mtibble \u001b[39m 2.1.3     \u001b[32mv\u001b[39m \u001b[34mdplyr  \u001b[39m 0.8.4\n",
      "\u001b[32mv\u001b[39m \u001b[34mtidyr  \u001b[39m 1.0.2     \u001b[32mv\u001b[39m \u001b[34mstringr\u001b[39m 1.4.0\n",
      "\u001b[32mv\u001b[39m \u001b[34mreadr  \u001b[39m 1.3.1     \u001b[32mv\u001b[39m \u001b[34mforcats\u001b[39m 0.4.0\n",
      "\u001b[32mv\u001b[39m \u001b[34mpurrr  \u001b[39m 0.3.3     \n",
      "\n",
      "-- \u001b[1mConflicts\u001b[22m ------------------------------------------ tidyverse_conflicts() --\n",
      "\u001b[31mx\u001b[39m \u001b[34mdplyr\u001b[39m::\u001b[32mfilter()\u001b[39m masks \u001b[34mstats\u001b[39m::filter()\n",
      "\u001b[31mx\u001b[39m \u001b[34mdplyr\u001b[39m::\u001b[32mlag()\u001b[39m    masks \u001b[34mstats\u001b[39m::lag()\n",
      "\n"
     ]
    },
    {
     "data": {
      "text/html": [
       "<table>\n",
       "<caption>A matrix: 5 x 2 of type dbl</caption>\n",
       "<tbody>\n",
       "\t<tr><td>-0.10</td><td>4</td></tr>\n",
       "\t<tr><td>-0.15</td><td>3</td></tr>\n",
       "\t<tr><td>-0.50</td><td>2</td></tr>\n",
       "\t<tr><td>-0.25</td><td>1</td></tr>\n",
       "\t<tr><td> 1.20</td><td>0</td></tr>\n",
       "</tbody>\n",
       "</table>\n"
      ],
      "text/latex": [
       "A matrix: 5 x 2 of type dbl\n",
       "\\begin{tabular}{ll}\n",
       "\t -0.10 & 4\\\\\n",
       "\t -0.15 & 3\\\\\n",
       "\t -0.50 & 2\\\\\n",
       "\t -0.25 & 1\\\\\n",
       "\t  1.20 & 0\\\\\n",
       "\\end{tabular}\n"
      ],
      "text/markdown": [
       "\n",
       "A matrix: 5 x 2 of type dbl\n",
       "\n",
       "| -0.10 | 4 |\n",
       "| -0.15 | 3 |\n",
       "| -0.50 | 2 |\n",
       "| -0.25 | 1 |\n",
       "|  1.20 | 0 |\n",
       "\n"
      ],
      "text/plain": [
       "     [,1]  [,2]\n",
       "[1,] -0.10 4   \n",
       "[2,] -0.15 3   \n",
       "[3,] -0.50 2   \n",
       "[4,] -0.25 1   \n",
       "[5,]  1.20 0   "
      ]
     },
     "metadata": {},
     "output_type": "display_data"
    },
    {
     "data": {
      "text/html": [
       "0.2"
      ],
      "text/latex": [
       "0.2"
      ],
      "text/markdown": [
       "0.2"
      ],
      "text/plain": [
       "[1] 0.2"
      ]
     },
     "metadata": {},
     "output_type": "display_data"
    },
    {
     "data": {
      "text/html": [
       "<table>\n",
       "<caption>A matrix: 1 x 2 of type dbl</caption>\n",
       "<tbody>\n",
       "\t<tr><td>1.2</td><td>0</td></tr>\n",
       "</tbody>\n",
       "</table>\n"
      ],
      "text/latex": [
       "A matrix: 1 x 2 of type dbl\n",
       "\\begin{tabular}{ll}\n",
       "\t 1.2 & 0\\\\\n",
       "\\end{tabular}\n"
      ],
      "text/markdown": [
       "\n",
       "A matrix: 1 x 2 of type dbl\n",
       "\n",
       "| 1.2 | 0 |\n",
       "\n"
      ],
      "text/plain": [
       "     [,1] [,2]\n",
       "[1,] 1.2  0   "
      ]
     },
     "metadata": {},
     "output_type": "display_data"
    },
    {
     "data": {
      "text/html": [
       "1.2"
      ],
      "text/latex": [
       "1.2"
      ],
      "text/markdown": [
       "1.2"
      ],
      "text/plain": [
       "[1] 1.2"
      ]
     },
     "metadata": {},
     "output_type": "display_data"
    },
    {
     "data": {
      "text/html": [
       "5"
      ],
      "text/latex": [
       "5"
      ],
      "text/markdown": [
       "5"
      ],
      "text/plain": [
       "[1] 5"
      ]
     },
     "metadata": {},
     "output_type": "display_data"
    },
    {
     "data": {
      "text/html": [
       "<table>\n",
       "<caption>A matrix: 2 x 2 of type dbl</caption>\n",
       "<tbody>\n",
       "\t<tr><td> 1.20</td><td>0</td></tr>\n",
       "\t<tr><td>-0.25</td><td>1</td></tr>\n",
       "</tbody>\n",
       "</table>\n"
      ],
      "text/latex": [
       "A matrix: 2 x 2 of type dbl\n",
       "\\begin{tabular}{ll}\n",
       "\t  1.20 & 0\\\\\n",
       "\t -0.25 & 1\\\\\n",
       "\\end{tabular}\n"
      ],
      "text/markdown": [
       "\n",
       "A matrix: 2 x 2 of type dbl\n",
       "\n",
       "|  1.20 | 0 |\n",
       "| -0.25 | 1 |\n",
       "\n"
      ],
      "text/plain": [
       "     [,1]  [,2]\n",
       "[1,]  1.20 0   \n",
       "[2,] -0.25 1   "
      ]
     },
     "metadata": {},
     "output_type": "display_data"
    },
    {
     "data": {
      "text/html": [
       "0.95"
      ],
      "text/latex": [
       "0.95"
      ],
      "text/markdown": [
       "0.95"
      ],
      "text/plain": [
       "[1] 0.95"
      ]
     },
     "metadata": {},
     "output_type": "display_data"
    },
    {
     "data": {
      "text/html": [
       "3.75"
      ],
      "text/latex": [
       "3.75"
      ],
      "text/markdown": [
       "3.75"
      ],
      "text/plain": [
       "[1] 3.75"
      ]
     },
     "metadata": {},
     "output_type": "display_data"
    },
    {
     "data": {
      "text/html": [
       "<table>\n",
       "<caption>A matrix: 3 x 2 of type dbl</caption>\n",
       "<tbody>\n",
       "\t<tr><td> 1.20</td><td>0</td></tr>\n",
       "\t<tr><td>-0.25</td><td>1</td></tr>\n",
       "\t<tr><td>-0.50</td><td>2</td></tr>\n",
       "</tbody>\n",
       "</table>\n"
      ],
      "text/latex": [
       "A matrix: 3 x 2 of type dbl\n",
       "\\begin{tabular}{ll}\n",
       "\t  1.20 & 0\\\\\n",
       "\t -0.25 & 1\\\\\n",
       "\t -0.50 & 2\\\\\n",
       "\\end{tabular}\n"
      ],
      "text/markdown": [
       "\n",
       "A matrix: 3 x 2 of type dbl\n",
       "\n",
       "|  1.20 | 0 |\n",
       "| -0.25 | 1 |\n",
       "| -0.50 | 2 |\n",
       "\n"
      ],
      "text/plain": [
       "     [,1]  [,2]\n",
       "[1,]  1.20 0   \n",
       "[2,] -0.25 1   \n",
       "[3,] -0.50 2   "
      ]
     },
     "metadata": {},
     "output_type": "display_data"
    },
    {
     "data": {
      "text/html": [
       "0.45"
      ],
      "text/latex": [
       "0.45"
      ],
      "text/markdown": [
       "0.45"
      ],
      "text/plain": [
       "[1] 0.45"
      ]
     },
     "metadata": {},
     "output_type": "display_data"
    },
    {
     "data": {
      "text/html": [
       "1.25"
      ],
      "text/latex": [
       "1.25"
      ],
      "text/markdown": [
       "1.25"
      ],
      "text/plain": [
       "[1] 1.25"
      ]
     },
     "metadata": {},
     "output_type": "display_data"
    },
    {
     "data": {
      "text/html": [
       "<table>\n",
       "<caption>A matrix: 4 x 2 of type dbl</caption>\n",
       "<tbody>\n",
       "\t<tr><td> 1.20</td><td>0</td></tr>\n",
       "\t<tr><td>-0.25</td><td>1</td></tr>\n",
       "\t<tr><td>-0.50</td><td>2</td></tr>\n",
       "\t<tr><td>-0.15</td><td>3</td></tr>\n",
       "</tbody>\n",
       "</table>\n"
      ],
      "text/latex": [
       "A matrix: 4 x 2 of type dbl\n",
       "\\begin{tabular}{ll}\n",
       "\t  1.20 & 0\\\\\n",
       "\t -0.25 & 1\\\\\n",
       "\t -0.50 & 2\\\\\n",
       "\t -0.15 & 3\\\\\n",
       "\\end{tabular}\n"
      ],
      "text/markdown": [
       "\n",
       "A matrix: 4 x 2 of type dbl\n",
       "\n",
       "|  1.20 | 0 |\n",
       "| -0.25 | 1 |\n",
       "| -0.50 | 2 |\n",
       "| -0.15 | 3 |\n",
       "\n"
      ],
      "text/plain": [
       "     [,1]  [,2]\n",
       "[1,]  1.20 0   \n",
       "[2,] -0.25 1   \n",
       "[3,] -0.50 2   \n",
       "[4,] -0.15 3   "
      ]
     },
     "metadata": {},
     "output_type": "display_data"
    },
    {
     "data": {
      "text/html": [
       "0.3"
      ],
      "text/latex": [
       "0.3"
      ],
      "text/markdown": [
       "0.3"
      ],
      "text/plain": [
       "[1] 0.3"
      ]
     },
     "metadata": {},
     "output_type": "display_data"
    },
    {
     "data": {
      "text/html": [
       "0.5"
      ],
      "text/latex": [
       "0.5"
      ],
      "text/markdown": [
       "0.5"
      ],
      "text/plain": [
       "[1] 0.5"
      ]
     },
     "metadata": {},
     "output_type": "display_data"
    },
    {
     "data": {
      "text/html": [
       "<table>\n",
       "<caption>A matrix: 5 x 2 of type dbl</caption>\n",
       "<tbody>\n",
       "\t<tr><td> 1.20</td><td>0</td></tr>\n",
       "\t<tr><td>-0.25</td><td>1</td></tr>\n",
       "\t<tr><td>-0.50</td><td>2</td></tr>\n",
       "\t<tr><td>-0.15</td><td>3</td></tr>\n",
       "\t<tr><td>-0.10</td><td>4</td></tr>\n",
       "</tbody>\n",
       "</table>\n"
      ],
      "text/latex": [
       "A matrix: 5 x 2 of type dbl\n",
       "\\begin{tabular}{ll}\n",
       "\t  1.20 & 0\\\\\n",
       "\t -0.25 & 1\\\\\n",
       "\t -0.50 & 2\\\\\n",
       "\t -0.15 & 3\\\\\n",
       "\t -0.10 & 4\\\\\n",
       "\\end{tabular}\n"
      ],
      "text/markdown": [
       "\n",
       "A matrix: 5 x 2 of type dbl\n",
       "\n",
       "|  1.20 | 0 |\n",
       "| -0.25 | 1 |\n",
       "| -0.50 | 2 |\n",
       "| -0.15 | 3 |\n",
       "| -0.10 | 4 |\n",
       "\n"
      ],
      "text/plain": [
       "     [,1]  [,2]\n",
       "[1,]  1.20 0   \n",
       "[2,] -0.25 1   \n",
       "[3,] -0.50 2   \n",
       "[4,] -0.15 3   \n",
       "[5,] -0.10 4   "
      ]
     },
     "metadata": {},
     "output_type": "display_data"
    },
    {
     "data": {
      "text/html": [
       "0.2"
      ],
      "text/latex": [
       "0.2"
      ],
      "text/markdown": [
       "0.2"
      ],
      "text/plain": [
       "[1] 0.2"
      ]
     },
     "metadata": {},
     "output_type": "display_data"
    },
    {
     "data": {
      "text/html": [
       "0"
      ],
      "text/latex": [
       "0"
      ],
      "text/markdown": [
       "0"
      ],
      "text/plain": [
       "[1] 0"
      ]
     },
     "metadata": {},
     "output_type": "display_data"
    },
    {
     "data": {
      "text/html": [
       "0"
      ],
      "text/latex": [
       "0"
      ],
      "text/markdown": [
       "0"
      ],
      "text/plain": [
       "[1] 0"
      ]
     },
     "metadata": {},
     "output_type": "display_data"
    },
    {
     "data": {
      "image/png": "[encoded data removed]",
      "text/plain": [
       "plot without title"
      ]
     },
     "metadata": {
      "image/png": {
       "height": 420,
       "width": 420
      }
     },
     "output_type": "display_data"
    }
   ],
   "source": [
    "library(ggplot2)\n",
    "library(tidyverse)\n",
    "\n",
    "#PRIMER EJERCICIO 1.4\n",
    "\n",
    "#funcion que obtiene la derivada de un polinomio, el cual\n",
    "#esta definido como una matriz de n renglones y 2 columnas\n",
    "#donde la primera columna representa los coeficientes y la\n",
    "#segunda los exponentes\n",
    "derpol<-function(pol,n){\n",
    "  if(n>0){\n",
    "    pol[,1]<-pol[,1]*pol[,2]\n",
    "    pol[,2]<-unlist(lapply(pol[,2],function(x) if(x==0) 0 else x-1))\n",
    "    pol<-derpol(pol,n-1)\n",
    "  }\n",
    "  pol\n",
    "}\n",
    "#funcion que valua un polinomio en el punto x\n",
    "valpol<-function(pol,x){\n",
    "  sum(pol[,1]*x^pol[,2])\n",
    "}\n",
    "#funcion opcional para la captura de un polinomio, capturado como\n",
    "#pares de numeros, el primero el coeficiente y el segundo el exponente;\n",
    "#se puede meter un numero indeterminado de pares. La funcion traspasa\n",
    "#los datos a una forma matricial (de n renglones y 2 columnas)\n",
    "m<-function(...){\n",
    "  do.call(rbind,list(...))\n",
    "}\n",
    "#funcion que regresa el polinomio de tailor, expresado igualmente por 2\n",
    "#columnas, el de coeficientes y el de exponentes. También se tiene que\n",
    "#dar como referencia el punto sobre el cual se construye el polinomio (xo)\n",
    "Pnxo<-function(pol,n,xo){\n",
    "  k=0\n",
    "  Pnxo<-m(c(valpol(derpol(pol,k),xo)/factorial(k),k))\n",
    "  while(k<n){\n",
    "    k<-k+1\n",
    "    pol<-derpol(pol,1)\n",
    "    Pnxo<-rbind(Pnxo,m(c(valpol(pol,xo)/factorial(k),k)))\n",
    "  }\n",
    "  Pnxo\n",
    "}\n",
    "#funcion que calcula el error relativo\n",
    "err_relativo<-function(aprox,obj){\n",
    "  abs(aprox-obj)/abs(obj)\n",
    "}\n",
    "\n",
    "#definimos el polinomio del ejercicio\n",
    "pol<-m(c(-0.1,4),c(-0.15,3),c(-0.5,2),c(-0.25,1),c(1.2,0))\n",
    "pol\n",
    "#pol<-matrix(c(-0.1,-0.15,-0.5,-0.25,1.2,4,3,2,1,0),nrow=5,ncol=2)\n",
    "#punto sobre el que será construido el polinomio de Taylor\n",
    "xo<-0\n",
    "#punto donde aproximaremos la valuacion de la funcion con el polinomio\n",
    "xobj<-1\n",
    "\n",
    "#función objetivo\n",
    "fxobj<-valpol(pol,xobj)\n",
    "fxobj\n",
    "\n",
    "#A continuación se plasman los polinomios de Taylor y sus errores relativos\n",
    "#aproximación con polinomio grado cero\n",
    "T0<-Pnxo(pol,0,xo)\n",
    "T0\n",
    "aproxT0<-valpol(T0,xobj-xo)\n",
    "aproxT0\n",
    "err_relativo(aproxT0,fxobj)\n",
    "\n",
    "#aproximación con polinomio grado uno\n",
    "T1<-Pnxo(pol,1,xo)\n",
    "T1\n",
    "aproxT1<-valpol(T1,xobj-xo)\n",
    "aproxT1\n",
    "err_relativo(aproxT1,fxobj)\n",
    "\n",
    "#aproximación con polinomio grado dos\n",
    "T2<-Pnxo(pol,2,xo)\n",
    "T2\n",
    "aproxT2<-valpol(T2,xobj-xo)\n",
    "aproxT2\n",
    "err_relativo(aproxT2,fxobj)\n",
    "\n",
    "#aproximación con polinomio grado tres\n",
    "T3<-Pnxo(pol,3,xo)\n",
    "T3\n",
    "aproxT3<-valpol(T3,xobj-xo)\n",
    "aproxT3\n",
    "err_relativo(aproxT3,fxobj)\n",
    "\n",
    "#aproximación con polinomio grado cuatro\n",
    "T4<-Pnxo(pol,4,xo)\n",
    "T4\n",
    "aproxT4<-valpol(T4,xobj-xo)\n",
    "aproxT4\n",
    "err_relativo(aproxT4,fxobj)\n",
    "\n",
    "#Para verificar que R_5_(X) es igual a cero, obtenemos\n",
    "#el coeficiente\n",
    "valpol(derpol(pol,5)/factorial(5),xo)\n",
    "\n",
    "#se define un intervalo para hacer las graficas\n",
    "x<-seq(0,1,0.005)\n",
    "\n",
    "yf <-lapply(x, function(z) valpol(pol,z))   %>% flatten_dbl()\n",
    "yT0<-lapply(x, function(z) valpol(T0,z-xo)) %>% flatten_dbl()\n",
    "yT1<-lapply(x, function(z) valpol(T1,z-xo)) %>% flatten_dbl()\n",
    "yT2<-lapply(x, function(z) valpol(T2,z-xo)) %>% flatten_dbl()\n",
    "yT3<-lapply(x, function(z) valpol(T3,z-xo)) %>% flatten_dbl()\n",
    "yT4<-lapply(x, function(z) valpol(T4,z-xo)) %>% flatten_dbl()\n",
    "\n",
    "gg <- ggplot()\n",
    "gg + \n",
    "  geom_line(aes(x=x,y=yT0,color='constante'))+\n",
    "  geom_line(aes(x=x,y=yT1,color='lineal')) + \n",
    "  geom_line(aes(x=x,y=yT2,color='cuadratica')) +\n",
    "  geom_line(aes(x=x,y=yT3,color='cubica')) + \n",
    "  geom_line(aes(x=x,y=yT4,color='cuartica')) +\n",
    "  geom_point(aes(x=x, y=yf, color='yf'),size=0.5)"
   ]
  },
  {
   "cell_type": "markdown",
   "metadata": {},
   "source": [
    "## Teorema de Taylor para una función $f: \\mathbb{R}^n \\rightarrow \\mathbb{R}$"
   ]
  },
  {
   "cell_type": "markdown",
   "metadata": {},
   "source": [
    "Sea $f: \\mathbb{R}^n \\rightarrow \\mathbb{R}$ diferenciable en $\\text{dom}f$. Si $x_0, x \\in \\text{dom}f$ y $x_0+t(x-x_0) \\in \\text{dom}f, \\forall t \\in (0,1),$  entonces $\\forall x \\in \\text{dom}f$ se tiene $f(x) = P_0(x) + R_0(x)$ donde:\n",
    "\n",
    "$$P_0(x) = f(x_0)$$"
   ]
  },
  {
   "cell_type": "markdown",
   "metadata": {},
   "source": [
    "$$R_0(x) = \\nabla f(x_0+t_x(x-x_0))^T(x-x_0)$$"
   ]
  },
  {
   "cell_type": "markdown",
   "metadata": {},
   "source": [
    "para alguna $t_x \\in (0,1)$ y $\\nabla f(\\cdot)$ gradiente de $f$ (ver al final de esta nota la definición de gradiente). Esta se llama **aproximación de orden $0$** para $f$ con centro en $x_0$. Si $\\nabla f(\\cdot)$ es acotado en $\\text{dom}f$ entonces se escribe: $R_0(x)=\\mathcal{O}(||x-x_0||)$."
   ]
  },
  {
   "cell_type": "markdown",
   "metadata": {},
   "source": [
    "Si además $f$ es continuamente diferenciable en $\\text{dom}f$(su derivada es continua, ver al final de esta nota definición de continuidad), $f^{(2)}$ existe en $\\text{dom}f$, se tiene $f(x) = P_1(x) + R_1(x)$ donde:\n",
    "\n",
    "$$P_1(x) = f(x_0) + \\nabla f(x_0)^T(x-x_0)$$"
   ]
  },
  {
   "cell_type": "markdown",
   "metadata": {},
   "source": [
    "$$R_1(x) = \\frac{1}{2}(x-x_0)^T \\nabla ^2f(x_0+t_x(x-x_0))(x-x_0)$$"
   ]
  },
  {
   "cell_type": "markdown",
   "metadata": {},
   "source": [
    "para alguna $t_x \\in (0,1)$ y $\\nabla^2 f(\\cdot)$ Hessiana de $f$ (ver al final de esta nota definición de la matriz Hessiana). Esta se llama **aproximación de orden $1$** para $f$ con centro en $x_0$. Si $\\nabla^2f(\\cdot)$ es acotada en $\\text{dom}f$ entonces se escribe: $R_1(x) = \\mathcal{O}(||x-x_0||^2)$."
   ]
  },
  {
   "cell_type": "markdown",
   "metadata": {},
   "source": [
    "Si $f^{(2)}$ es continuamente diferenciable y $f^{(3)}$ existe y es acotada en $\\text{dom}f$, se tiene $f(x)=P_2(x) + R_2(x)$ donde:\n",
    "\n",
    "$$P_2(x) = f(x_0) + \\nabla f(x_0)^T(x-x_0) + \\frac{1}{2}(x-x_0)^T \\nabla ^2f(x_0)(x-x_0)$$"
   ]
  },
  {
   "cell_type": "markdown",
   "metadata": {},
   "source": [
    "$$R_2(x)= \\mathcal{O}(||x-x_0||^3).$$"
   ]
  },
  {
   "cell_type": "markdown",
   "metadata": {},
   "source": [
    "Esta se llama **aproximación de orden $2$** para $f$ con centro en $x_0$. \n",
    "\n",
    "**Obs:** en este caso $f^{(3)}$ es un tensor."
   ]
  },
  {
   "cell_type": "markdown",
   "metadata": {},
   "source": [
    "**Comentarios:**\n",
    "\n",
    "* Tomando $h=x-x_0$, se reescribe el teorema como sigue, por ejemplo para la aproximación de orden $1$ incluyendo su residuo:\n",
    "\n",
    "$$f(x) = f(x_0 + h) = \\underbrace{f(x_0) + \\nabla f(x_0)^Th}_{\\textstyle P_1(h)} + \\underbrace{\\frac{1}{2}h^T \\nabla ^2f(x_0+t_xh)h}_{\\textstyle R_1(h)}.$$\n",
    "\n",
    "Si $f^{(2)}$ es acotada en $\\text{dom}f$, escribimos: $R_1(h)=\\mathcal{O}(||h||^2)$."
   ]
  },
  {
   "cell_type": "markdown",
   "metadata": {},
   "source": [
    "# Diferenciación numérica"
   ]
  },
  {
   "cell_type": "markdown",
   "metadata": {},
   "source": [
    "Las fórmulas de aproximación a las derivadas por diferencias finitas pueden obtenerse con los polinomios de Taylor, presentes en el teorema del mismo autor, por ejemplo:"
   ]
  },
  {
   "cell_type": "markdown",
   "metadata": {},
   "source": [
    "Sea $f \\in \\mathcal{C}^1([a,b])$ y $f^{(2)}$ existe y está acotada $\\forall x \\in [a,b]$ entonces, si $x+h \\in [a,b]$ con $h>0$ por el teorema de Taylor:\n",
    "\n",
    "$$f(x+h) = f(x) + f^{(1)}(x)h + f^{(2)}(\\xi_{x+h})\\frac{h^2}{2}$$ con $\\xi_{x+h} \\in [x,x+h]$ y al despejar $f^{(1)}(x)$ se tiene: "
   ]
  },
  {
   "cell_type": "markdown",
   "metadata": {},
   "source": [
    "$$f^{(1)}(x) = \\frac{f(x+h)-f(x)}{h} - f^{(2)}(\\xi_{x+h})\\frac{h}{2}.$$"
   ]
  },
  {
   "cell_type": "markdown",
   "metadata": {},
   "source": [
    "y escribimos:\n",
    "\n",
    "$$f^{(1)}(x) = \\frac{f(x+h)-f(x)}{h} + \\mathcal{O}(h).$$\n",
    "\n",
    "La aproximación $\\frac{f(x+h)-f(x)}{h}$ es una fórmula por diferencias hacia delante con error de orden $1$. Gráficamente se tiene:\n"
   ]
  },
  {
   "cell_type": "markdown",
   "metadata": {},
   "source": [
    "<img src=\"https://dl.dropboxusercontent.com/s/r1ypkxkwa9g3pmk/dif_hacia_delante.png?dl=0\" heigth=\"500\" width=\"500\">"
   ]
  },
  {
   "cell_type": "markdown",
   "metadata": {},
   "source": [
    "Con las mismas suposiciones es posible obtener la fórmula para la aproximación por diferencias hacia atrás:\n",
    "\n",
    "$$f^{(1)}(x) = \\frac{f(x)-f(x-h)}{h} + \\mathcal{O}(h), h >0.$$\n"
   ]
  },
  {
   "cell_type": "markdown",
   "metadata": {},
   "source": [
    "<img src=\"https://dl.dropboxusercontent.com/s/mxmc8kohurlu9sp/dif_hacia_atras.png?dl=0\" heigth=\"500\" width=\"500\">"
   ]
  },
  {
   "cell_type": "markdown",
   "metadata": {},
   "source": [
    "Considerando $f \\in \\mathcal{C}^2([a,b]), f^{(3)}$ existe y está acotada $\\forall x \\in [a,b]$ si $x-h, x+h \\in [a,b]$ y $h>0$ entonces:\n",
    "\n",
    "$$f^{(1)}(x) = \\frac{f(x+h)-f(x-h)}{2h} + \\mathcal{O}(h^2), h >0.$$\n",
    "\n",
    "y el cociente $\\frac{f(x+h)-f(x-h)}{2h}$ es la aproximación por diferencias centradas con error de orden $2$. Gráficamente:\n"
   ]
  },
  {
   "cell_type": "markdown",
   "metadata": {},
   "source": [
    "<img src=\"https://dl.dropboxusercontent.com/s/jwi0y1t5z58pydz/dif_centradas.png?dl=0\" heigth=\"500\" width=\"500\">"
   ]
  },
  {
   "cell_type": "markdown",
   "metadata": {},
   "source": [
    "**Obs:** la aproximación por diferencias finitas a la primer derivada de la función tiene un error de orden $\\mathcal{O}(h)$ por lo que una elección de $h$ igual a $.1 = 10^{-1}$ generará aproximaciones con alrededor de un dígito correcto."
   ]
  },
  {
   "cell_type": "markdown",
   "metadata": {},
   "source": [
    "**Obs:** la diferenciación numérica por diferencias finitas no es un proceso con una alta exactitud pues los problemas del redondeo de la aritmética en la máquina se hacen presentes en el mismo (ver nota [1.2.Sistema_de_punto_flotante](https://github.com/ITAM-DS/analisis-numerico-computo-cientifico/blob/master/temas/I.computo_cientifico/1.2.Sistema_de_punto_flotante.ipynb)). Como ejemplo de esta situación hágase el siguiente ejercicio."
   ]
  },
  {
   "cell_type": "markdown",
   "metadata": {},
   "source": [
    "**Ejemplo: realizar una gráfica de log(error relativo) vs log(h) (h en el eje horizontal) con `ggplot2` para aproximar la primera derivada de $f(x)=e^{-x}$ en $x=1$ con $h \\in \\{10^{-16}, 10^{-14}, \\dots , 10^{-1}\\}$ y diferencias hacia delante. Valor a aproximar: $f^{(1)}(1) = -e^{-1}$**"
   ]
  },
  {
   "cell_type": "code",
   "execution_count": 9,
   "metadata": {},
   "outputs": [],
   "source": [
    "f<-function(x){\n",
    "    exp(-x)\n",
    "}\n",
    "aprox_1a_derivada<-function(f,x,h){\n",
    "    (f(x+h)-f(x))/h\n",
    "}\n",
    "\n",
    "df<-function(x){\n",
    "    -exp(-x)\n",
    "}\n",
    "\n",
    "err_absoluto<-function(aprox,obj){\n",
    "    abs(aprox-obj)\n",
    "}\n",
    "\n",
    "err_relativo<-function(aprox,obj){\n",
    "    abs(aprox-obj)/abs(obj)\n",
    "}\n",
    "\n",
    "x<-1\n",
    "\n",
    "h<-10^(-1*(1:16))\n",
    "\n",
    "err_absoluto_res<-err_absoluto(aprox_1a_derivada(f,x,h),df(x))\n",
    "err_relativo_res<-err_relativo(aprox_1a_derivada(f,x,h),df(x))\n",
    "\n",
    "\n",
    "gf<-ggplot()"
   ]
  },
  {
   "cell_type": "code",
   "execution_count": 10,
   "metadata": {},
   "outputs": [
    {
     "data": {
      "image/png": "[encoded data removed]",
      "text/plain": [
       "plot without title"
      ]
     },
     "metadata": {
      "image/png": {
       "height": 360,
       "width": 360
      }
     },
     "output_type": "display_data"
    }
   ],
   "source": [
    "gf+\n",
    "geom_line(aes(x=log(h),y=log(err_absoluto_res)))+\n",
    "ggtitle('Aproximación a la primera derivada por diferencias finitas')"
   ]
  },
  {
   "cell_type": "code",
   "execution_count": 11,
   "metadata": {},
   "outputs": [
    {
     "data": {
      "image/png": "[encoded data removed]",
      "text/plain": [
       "plot without title"
      ]
     },
     "metadata": {
      "image/png": {
       "height": 360,
       "width": 360
      }
     },
     "output_type": "display_data"
    }
   ],
   "source": [
    "gf+\n",
    "geom_line(aes(x=log(h),y=log(err_relativo_res)))+\n",
    "ggtitle('Aproximación a la primera derivada por diferencias finitas')"
   ]
  },
  {
   "cell_type": "markdown",
   "metadata": {},
   "source": [
    "**Ejercicio: realizar una gráfica de log(error relativo) vs log(h) (h en el eje horizontal) con `ggplot2` para aproximar la segunda derivada de $f(x)=e^{-x}$ en $x=1$ con $h \\in \\{10^{-16}, 10^{-14}, \\dots , 10^{-1}\\}$ y diferencias hacia delante. Valor a aproximar: $f^{(2)}(1) = e^{-1}$**. Usar:"
   ]
  },
  {
   "cell_type": "markdown",
   "metadata": {},
   "source": [
    "$$\\frac{d^2f(x)}{dx} = \\frac{f(x+2h)-2f(x+h)+f(x)}{h^2} + \\mathcal{O}(h)$$\n",
    "\n",
    "**Encontrar valor(es) de $h$ que minimiza(n) al error absoluto y relativo.**\n",
    "\n",
    "La aproximación anterior es una aproximación a la segunda derivada por diferencias hacia delante. Las versiones hacia atrás y centradas en general para una función $f: \\mathbb{R} \\rightarrow \\mathbb{R}$ son respectivamente:"
   ]
  },
  {
   "cell_type": "markdown",
   "metadata": {},
   "source": [
    "$$\\frac{d^2f(x)}{dx} \\approx \\frac{f(x)-2f(x-h)+f(x-2h)}{h^2} + \\mathcal{O}(h)$$"
   ]
  },
  {
   "cell_type": "markdown",
   "metadata": {},
   "source": [
    "$$\\frac{d^2f(x)}{dx} \\approx \\frac{f(x+h)-2f(x)+f(x-h)}{h^2} + \\mathcal{O}(h^2)$$"
   ]
  },
  {
   "cell_type": "markdown",
   "metadata": {},
   "source": [
    "## Análisis del error por redondeo y truncamiento en aproximación por diferencias finitas hacia delante"
   ]
  },
  {
   "cell_type": "markdown",
   "metadata": {},
   "source": [
    "El ejemplo anterior muestra (vía una gráfica) que el método numérico de diferenciación numérica no es estable numéricamente respecto al redondeo (ver nota [1.3.Condicion_de_un_problema_y_estabilidad_de_un_algoritmo](https://github.com/ITAM-DS/analisis-numerico-computo-cientifico/blob/master/temas/I.computo_cientifico/1.3.Condicion_de_un_problema_y_estabilidad_de_un_algoritmo.ipynb) para definición de estabilidad de un algoritmo) y también se puede corroborar realizando un análisis del error. En esta sección consideramos la aproximación a la primer derivada por diferencias finitas hacia delante:\n",
    "\n",
    "$$\\frac{f(x+h)-f(x)}{h}$$"
   ]
  },
  {
   "cell_type": "markdown",
   "metadata": {},
   "source": [
    "Suponemos que $\\hat{f}(x)$ aproxima a $f(x)$ y por errores de redondeo $\\hat{f}(x) = f(x)(1 + \\epsilon_{f(x)})$ con $|\\epsilon_{f(x)}| \\leq \\epsilon_{maq}$ error de redondeo al evaluar $f$ en $x$. $\\hat{f}(x)$ es la aproximación en un SPFN (ver nota [1.2.Sistema_de_punto_flotante](https://github.com/ITAM-DS/analisis-numerico-computo-cientifico/blob/master/temas/I.computo_cientifico/1.2.Sistema_de_punto_flotante.ipynb)). Además supóngase que $x,x+h,h \\in \\mathcal{Fl}$ . Entonces en la aproximación a la primer derivada por diferencias  hacia delante:"
   ]
  },
  {
   "cell_type": "markdown",
   "metadata": {},
   "source": [
    "$f^{(1)}(x) = \\frac{f(x+h)-f(x)}{h} + \\mathcal{O}(h)$ y calculando el error absoluto:\n"
   ]
  },
  {
   "cell_type": "markdown",
   "metadata": {},
   "source": [
    "$$\\text{ErrAbs}\\left ( \\frac{\\hat{f}(x+h)-\\hat{f}(x)}{h} \\right ) = \\left |f^{(1)}(x) - \\frac{\\hat{f}(x+h)-\\hat{f}(x)}{h} \\right | = \\left | \\frac{f(x+h)-f(x)}{h} + \\mathcal{O}(h) - \\left ( \\frac{f(x+h)(1+\\epsilon_{f(x+h)})-f(x)(1+\\epsilon_{f(x)})}{h} \\right ) \\right | =  \\left |\\mathcal{O}(h) - \\frac{f(x+h)\\epsilon_{f(x+h)}-f(x)\\epsilon_{f(x)}}{h} \\right | \\leq \\mathcal{O}(h) + \\frac{C\\epsilon_{maq}}{h}$$"
   ]
  },
  {
   "cell_type": "markdown",
   "metadata": {},
   "source": [
    "suponiendo en el último paso que $|f(x+h)\\epsilon_{f(x+h)} - f(x)\\epsilon_{f(x)}| \\leq C \\epsilon_{maq}$ con $C>0$ constante que acota a la función $f$ en el intervalo $[a,b]$. Obsérvese que $\\frac{\\hat{f}(x+h)-\\hat{f}(x)}{h}$ es la aproximación a la primer derivada por diferencias hacia delante que se obtiene en la computadora, por lo que la cantidad $\\left |f^{(1)}(x) - \\frac{\\hat{f}(x+h)-\\hat{f}(x)}{h} \\right |$ es el error absoluto de la aproximación por diferencias hacia delante. "
   ]
  },
  {
   "cell_type": "markdown",
   "metadata": {},
   "source": [
    "El error relativo es:"
   ]
  },
  {
   "cell_type": "markdown",
   "metadata": {},
   "source": [
    "$$\\text{ErrRel}\\left (\\frac{\\hat{f}(x+h)-\\hat{f}(x)}{h} \\right) = \\frac{\\text{ErrAbs}\\left ( \\frac{\\hat{f}(x+h)-\\hat{f}(x)}{h} \\right )}{|f^{(1)}(x)|} \\leq \\frac{\\mathcal{O}(h) + \\frac{C\\epsilon_{maq}}{h}}{|f^{(1)}(x)|} = K_1h + K_2\\frac{1}{h}$$\n",
    "\n",
    "con $K_1, K_2 >0$ constantes."
   ]
  },
  {
   "cell_type": "markdown",
   "metadata": {},
   "source": [
    "Entonces la función $g(h) = \\mathcal{O}(h) + \\mathcal{O}\\left (\\frac{1}{h} \\right)$ acota al error absoluto y al error relativo y se tiene:\n",
    "\n",
    "* Si $h \\rightarrow 0$ la componente $\\mathcal{O} \\left ( \\frac{1}{h} \\right )$ domina a la componente $\\mathcal{O}(h)$, la cual tiende a $0$.\n",
    "\n",
    "* Si $h \\rightarrow \\infty$ la componente $\\mathcal{O}(h)$ domina a $\\mathcal{O} \\left ( \\frac{1}{h} \\right )$, la cual tiende a $0$.\n",
    "\n",
    "Por las dos observaciones anteriores, existe un valor de $h$ que minimiza a los errores. Tal valor se observa en las gráficas anteriores y es igual a:"
   ]
  },
  {
   "cell_type": "code",
   "execution_count": 12,
   "metadata": {},
   "outputs": [
    {
     "name": "stdout",
     "output_type": "stream",
     "text": [
      "[1] 1e-08 1e-08\n"
     ]
    }
   ],
   "source": [
    "print(c(h[which.min(err_absoluto_res)],h[which.min(err_relativo_res)]))"
   ]
  },
  {
   "cell_type": "markdown",
   "metadata": {},
   "source": [
    "**Ejercicio:** obtener de forma analítica el valor de $h$ que minimiza la función $g(h)$ anterior. Tip: utilizar criterio de primera y segunda derivada para encontrar mínimo global."
   ]
  },
  {
   "cell_type": "markdown",
   "metadata": {},
   "source": [
    "**Conclusiones y comentarios:** \n",
    "\n",
    "* La componente $\\mathcal{O}(h)$ es el error por truncamiento, la cual resulta del teorema de Taylor. El teorema de Taylor nos indica que añadir términos en el polinomio de Taylor si la $x$ a aproximar es cercana al centro, las derivadas de $f$ son acotadas y $h \\rightarrow 0$ entonces el error por truncamiento debe tender a $0$. Lo anterior no ocurre en la implantación numérica (corroborado de forma analítica y visual) del método por diferenciación numérica para la primer derivada por la presencia de la componente $\\mathcal{O}\\left(\\frac{1}{h}\\right)$ en los errores. Tal componente proviene del error por redondeo.\n",
    "\n",
    "* Obsérvese que el error relativo máximo es del $100\\%$ lo que indica que no se tiene ninguna cifra correcta en la aproximación:\n"
   ]
  },
  {
   "cell_type": "code",
   "execution_count": 12,
   "metadata": {},
   "outputs": [
    {
     "data": {
      "text/html": [
       "1"
      ],
      "text/latex": [
       "1"
      ],
      "text/markdown": [
       "1"
      ],
      "text/plain": [
       "[1] 1"
      ]
     },
     "metadata": {},
     "output_type": "display_data"
    }
   ],
   "source": [
    "max(err_relativo_res)"
   ]
  },
  {
   "cell_type": "markdown",
   "metadata": {},
   "source": [
    "y esto ocurre para un valor de $h$ igual a:"
   ]
  },
  {
   "cell_type": "code",
   "execution_count": 13,
   "metadata": {},
   "outputs": [
    {
     "data": {
      "text/html": [
       "1e-16"
      ],
      "text/latex": [
       "1e-16"
      ],
      "text/markdown": [
       "1e-16"
      ],
      "text/plain": [
       "[1] 1e-16"
      ]
     },
     "metadata": {},
     "output_type": "display_data"
    }
   ],
   "source": [
    "h[which.max(err_relativo_res)]"
   ]
  },
  {
   "cell_type": "markdown",
   "metadata": {},
   "source": [
    "**pregunta:** ¿por qué se alcanza el máximo error relativo en el valor de $h=10^{-16}$?."
   ]
  },
  {
   "cell_type": "markdown",
   "metadata": {},
   "source": [
    "Con esto se tiene que la diferenciación numérica es un método **inestable numéricamente respecto al redondeo**. Ver nota [1.3.Condicion_de_un_problema_y_estabilidad_de_un_algoritmo](https://github.com/ITAM-DS/analisis-numerico-computo-cientifico/blob/master/temas/I.computo_cientifico/1.3.Condicion_de_un_problema_y_estabilidad_de_un_algoritmo.ipynb)."
   ]
  },
  {
   "cell_type": "markdown",
   "metadata": {},
   "source": [
    "* Un análisis de error similar se utiliza para el método de diferencias finitas por diferencias centradas para aproximar la primera derivada. En este caso el valor de $h$ que minimiza a los errores es del orden $h^* = 10^{-6}$."
   ]
  },
  {
   "cell_type": "markdown",
   "metadata": {},
   "source": [
    "## Diferenciación numérica para una función $f: \\mathbb{R}^n \\rightarrow \\mathbb{R}$"
   ]
  },
  {
   "cell_type": "markdown",
   "metadata": {},
   "source": [
    "Supongamos $f$ es dos veces diferenciable en $\\text{dom}f$. Si $f: \\mathbb{R}^n \\rightarrow \\mathbb{R}$ entonces su derivada se llama **gradiente**, el cual es una función $\\nabla f: \\mathbb{R}^n \\rightarrow \\mathbb{R}^n$ y su segunda derivada se llama **Hessiana**, la cual es una función $f: \\mathbb{R}^n \\rightarrow \\mathbb{R}^{n\\times n}$ (ver final de esta nota para definición de derivadas en funciones $f: \\mathbb{R}^n \\rightarrow \\mathbb{R}^m$). Ambas funciones al evaluarse resultan en un vector en $\\mathbb{R}^n$ y en una matriz en $\\mathbb{R}^{n\\times n}$ respectivamente. "
   ]
  },
  {
   "cell_type": "markdown",
   "metadata": {},
   "source": [
    "Podemos utilizar las fórmulas de aproximación en diferenciación numérica con diferencias finitas para el caso $f: \\mathbb{R} \\rightarrow \\mathbb{R}$ revisadas anteriormente para aproximar al gradiente y a la Hessiana.\n",
    "\n",
    "Para el caso del gradiente se tiene por **diferenciación hacia delante**:\n",
    "\n",
    "$$\\nabla f(x) = \n",
    "\\begin{array}{l}\n",
    "\\left[ \\begin{array}{c}\n",
    "\\frac{\\partial f(x)}{\\partial x_1}\\\\\n",
    "\\vdots\\\\\n",
    "\\frac{\\partial f(x)}{\\partial x_n}\n",
    "\\end{array}\n",
    "\\right] \\approx, \\nabla ^2\\hat{f}(x) =\\left[ \n",
    "\\begin{array}{c} \n",
    "\\frac{f(x+he_1) - f(x)}{h}\\\\\n",
    "\\vdots\\\\\n",
    "\\frac{f(x+he_n) - f(x)}{h}\n",
    "\\end{array}\n",
    "\\right]\n",
    "\\end{array} \\in \\mathbb{R}^n$$\n",
    "\n",
    "con $e_j$ $j$-ésimo vector canónico que tiene un número $1$ en la posición $j$ y $0$ en las entradas restantes para $j=1,\\dots,n$. Se cumple $||\\nabla f(x) - \\nabla \\hat{f}(x)|| = \\mathcal{O}(h)$. Y para el caso de la Hessiana:"
   ]
  },
  {
   "cell_type": "markdown",
   "metadata": {},
   "source": [
    "$$\\nabla^2f(x) = \\left[\\begin{array}{cccc}\n",
    "\\frac{\\partial^2f(x)}{\\partial x_1^2} &\\frac{\\partial^2f(x)}{\\partial x_2 \\partial x_1}&\\dots&\\frac{\\partial^2f(x)}{\\partial x_n \\partial x_1}\\\\\n",
    "\\frac{\\partial^2f(x)}{\\partial x_1 \\partial x_2} &\\frac{\\partial^2f(x)}{\\partial x_2^2} &\\dots&\\frac{\\partial^2f(x)}{\\partial x_n \\partial x_2}\\\\\n",
    "\\vdots &\\vdots& \\ddots&\\vdots\\\\\n",
    "\\frac{\\partial^2f(x)}{\\partial x_1 \\partial x_n} &\\frac{\\partial^2f(x)}{\\partial x_2 \\partial x_n}&\\dots&\\frac{\\partial^2f(x)}{\\partial x_n^2} \\\\\n",
    "\\end{array}\n",
    "\\right],\n",
    "$$\n"
   ]
  },
  {
   "cell_type": "markdown",
   "metadata": {},
   "source": [
    "$$\n",
    "\\nabla^2 \\hat{f}(x) = \\left[\\begin{array}{cccc}\n",
    "\\frac{f(x+2he_1)-2f(x+he_1)+f(x)}{h^2} &\\frac{f(x+he_1+he_2)-f(x+he_1)-f(x+he_2)+f(x)}{h^2}&\\dots&\\frac{f(x+he_1+he_n)-f(x+he_1)-f(x+he_n)+f(x)}{h^2}\\\\\n",
    "\\frac{f(x+he_1+he_2)-f(x+he_2)-f(x+he_1)+f(x)}{h^2}&\\frac{f(x+2he_2)-2f(x+he_2)+f(x)}{h^2}  &\\dots&\\frac{f(x+he_2+he_n)-f(x+he_2)-f(x+he_n)+f(x)}{h^2}\\\\\n",
    "\\vdots &\\vdots& \\ddots&\\vdots\\\\\n",
    "\\frac{f(x+he_1+he_n)-f(x+he_n)-f(x+he_1)+f(x)}{h^2}&\\frac{f(x+he_2+he_n)-f(x+he_n)-f(x+he_2)+f(x)}{h^2}&\\dots&\\frac{f(x+2he_n)-2f(x+he_n)+f(x)}{h^2}\\\\\n",
    "\\end{array}\n",
    "\\right]\n",
    "$$\n",
    "\n",
    "Se cumple: $||\\nabla^2f(x)-\\nabla\\hat{f}^2(x)||=\\mathcal{O}(h)$."
   ]
  },
  {
   "cell_type": "markdown",
   "metadata": {},
   "source": [
    "**Ejemplo:**\n",
    "\n",
    "Aproximar $\\nabla f(x), \\nabla^2f(x)$ con diferencias hacia delante y $h \\in \\{10^{-16}, 10^{-14}, \\dots , 10^{-1}\\}$ para $f: \\mathbb{R}^4 \\rightarrow \\mathbb{R}$, dada por $f(x) = (x_1^2-x_2^2)^2+x_1^2+(x_3^2-x_4^2)^2+x_3^2$ en el punto $x_0=(1.5,1.5,1.5,1.5)^T$. Realizar una gráfica de $\\log($Err_rel) vs $\\log($h)\n",
    "\n",
    "Para esta función se tiene:\n"
   ]
  },
  {
   "cell_type": "markdown",
   "metadata": {},
   "source": [
    "$$\\nabla f(x) = \n",
    "\\left[ \\begin{array}{c}\n",
    "4x_1(x_1^2-x_2^2) + 2x_1\\\\\n",
    "-4x_2(x_1^2-x_2^2)\\\\\n",
    "4x_3(x_3^2-x_4^2)+2x_3\\\\\n",
    "-4x_4(x_3^2-x_4^2)\n",
    "\\end{array}\n",
    "\\right] ,\n",
    "$$"
   ]
  },
  {
   "cell_type": "markdown",
   "metadata": {},
   "source": [
    "$$\\nabla^2f(x)=\n",
    " \\left[\\begin{array}{cccc}\n",
    "12x_1^2-4x_2^2+2 &-8x_1x_2&0&0\\\\\n",
    "-8x_1x_2 &-4x_1^2+12x_2^2&0&0\\\\\n",
    "0 &0&12x_3^2-4x_4^2+2&-8x_3x_4\\\\\n",
    "0&0&-8x_3x_4&-4x_3^2+12x_4^2\\\\\n",
    "\\end{array}\n",
    "\\right]\n",
    "$$"
   ]
  },
  {
   "cell_type": "markdown",
   "metadata": {},
   "source": [
    "Y evaluando en $x_0$:\n"
   ]
  },
  {
   "cell_type": "code",
   "execution_count": 14,
   "metadata": {},
   "outputs": [],
   "source": [
    "#gradiente de f calculado de forma simbólica\n",
    "gf<-function(x){\n",
    "    c(4*x[1]*(x[1]^2-x[2]^2)+2*x[1],\n",
    "      -4*x[2]*(x[1]^2-x[2]^2),\n",
    "      4*x[3]*(x[3]^2-x[4]^2)+2*x[3],\n",
    "      -4*x[4]*(x[3]^2-x[4]^2))\n",
    "}"
   ]
  },
  {
   "cell_type": "code",
   "execution_count": 15,
   "metadata": {},
   "outputs": [],
   "source": [
    "x_0<-c(1.5,1.5,1.5,1.5)"
   ]
  },
  {
   "cell_type": "code",
   "execution_count": 16,
   "metadata": {},
   "outputs": [
    {
     "name": "stdout",
     "output_type": "stream",
     "text": [
      "[1] 3 0 3 0\n"
     ]
    }
   ],
   "source": [
    "print(gf(x_0))"
   ]
  },
  {
   "cell_type": "markdown",
   "metadata": {},
   "source": [
    "$$\\nabla f(x_0) = \n",
    "\\left[ \\begin{array}{c}\n",
    "3\\\\\n",
    "0\\\\\n",
    "3\\\\\n",
    "0\n",
    "\\end{array}\n",
    "\\right],\n",
    "$$"
   ]
  },
  {
   "cell_type": "markdown",
   "metadata": {},
   "source": [
    "para la Hessiana:"
   ]
  },
  {
   "cell_type": "code",
   "execution_count": 17,
   "metadata": {},
   "outputs": [],
   "source": [
    "#Hessiana de f calculada de forma simbólica\n",
    "gf2<-function(x){\n",
    "    matrix(c(12*x[1]^2-4*x[2]^2+2,-8*x[1]*x[2],0,0,\n",
    "             -8*x[1]*x[2],-4*x[1]^2+12*x[2]^2,0,0,\n",
    "             0,0,12*x[3]^2-4*x[4]^2+2,-8*x[3]*x[4],\n",
    "             0,0,-8*x[3]*x[4],-4*x[3]^2+12*x[4]^2),nrow=4,ncol=4)\n",
    "}"
   ]
  },
  {
   "cell_type": "code",
   "execution_count": 18,
   "metadata": {},
   "outputs": [
    {
     "name": "stdout",
     "output_type": "stream",
     "text": [
      "     [,1] [,2] [,3] [,4]\n",
      "[1,]   20  -18    0    0\n",
      "[2,]  -18   18    0    0\n",
      "[3,]    0    0   20  -18\n",
      "[4,]    0    0  -18   18\n"
     ]
    }
   ],
   "source": [
    "print(gf2(x_0))"
   ]
  },
  {
   "cell_type": "markdown",
   "metadata": {},
   "source": [
    "$$\\nabla^2f(x)=\n",
    " \\left[\\begin{array}{cccc}\n",
    "20 &-18&0&0\\\\\n",
    "-18&18&0&0\\\\\n",
    "0 &0&20&-18\\\\\n",
    "0&0&-18&18\\\\\n",
    "\\end{array}\n",
    "\\right]\n",
    "$$"
   ]
  },
  {
   "cell_type": "markdown",
   "metadata": {},
   "source": [
    "Calculando el gradiente y la Hessiana de forma numérica con la aproximación por diferencias hacia delante:"
   ]
  },
  {
   "cell_type": "code",
   "execution_count": 19,
   "metadata": {},
   "outputs": [],
   "source": [
    "#definición de función y punto en el que se calculan las aproximaciones\n",
    "f_ej<-function(x){\n",
    "    (x[1]^2-x[2]^2)^2+x[1]^2+(x[3]^2-x[4]^2)^2+x[3]^2\n",
    "}\n",
    "x0<-rep(1.5,4)\n"
   ]
  },
  {
   "cell_type": "code",
   "execution_count": 20,
   "metadata": {},
   "outputs": [],
   "source": [
    "#Función auxiliar para incrementar una entrada de un vector\n",
    "#por una cantidad h\n",
    "inc_index<-function(vec,index,h){\n",
    "    vec[index]<-vec[index]+h\n",
    "    vec}"
   ]
  },
  {
   "cell_type": "code",
   "execution_count": 21,
   "metadata": {},
   "outputs": [],
   "source": [
    "#Función para aproximar el gradiente de f\n",
    "#f: función a la que se le aproximará su gradiente\n",
    "#x: punto en el que se aproximará el gradiente de f\n",
    "#h: valor de h para diferencias hacia delante\n",
    "#gf: aproximación al gradiente de f por diferencias hacia delante\n",
    "gf_numeric<-function(f,x,h){\n",
    "    n<-length(x)\n",
    "    gf<-rep(0,n)\n",
    "    for(i in 1:n){\n",
    "        gf[i]=(f(inc_index(x,i,h))-f(x))\n",
    "    }\n",
    "    gf/h\n",
    "}"
   ]
  },
  {
   "cell_type": "code",
   "execution_count": 22,
   "metadata": {},
   "outputs": [],
   "source": [
    "#Función para aproximar la Hessiana de f\n",
    "#f: función a la que se le aproximará su Hessiana\n",
    "#x: punto en el que se aproximará la Hessiana de f\n",
    "#h: valor de h para diferencias hacia delante\n",
    "#Hf: aproximación a la Hessiana de f por diferencias hacia delante\n",
    "gf2_numeric<-function(f,x,h){\n",
    "    n<-length(x)\n",
    "    Hf<-matrix(rep(0,n^2),nrow=n,ncol=n)\n",
    "    f_x<-f(x)\n",
    "    for(i in 1:n){\n",
    "        x_inc_in_i<-inc_index(x,i,h)\n",
    "        f_x_inc_in_i<-f(x_inc_in_i)\n",
    "        for(j in i:n){\n",
    "            #otra forma para dif:\n",
    "            #dif<-f(inc_index(inc_index(x,j,h),i,h))-f_x_inc_in_i-f(inc_index(x,j,h))+f_x\n",
    "            dif<-f(inc_index(x_inc_in_i,j,h))-f_x_inc_in_i-f(inc_index(x,j,h))+f_x\n",
    "            Hf[i,j]<-dif\n",
    "            if(j!=i)\n",
    "                Hf[j,i]<-dif\n",
    "        }\n",
    "    }\n",
    "    Hf/h^2\n",
    "}"
   ]
  },
  {
   "cell_type": "code",
   "execution_count": 25,
   "metadata": {},
   "outputs": [],
   "source": [
    "h<-10^(-1*(1:16))#un conjunto de valores de h para diferencias hacia delante\n",
    "err_absoluto<-function(aprox,obj){\n",
    "    norm(aprox-obj,\"2\") #cálculo de norma vectorial o matricial, depende de lo que recibe\n",
    "                        #la función en sus parámetros aprox y obj\n",
    "}\n",
    "\n",
    "err_relativo<-function(aprox,obj){\n",
    "    norm(aprox-obj,\"2\")/norm(obj,\"2\")#cálculo de norma vectorial o matricial, depende de lo que recibe\n",
    "                                     #la función en sus parámetros aprox y obj\n",
    "}\n",
    "\n",
    "gf_numeric_list<-lapply(h,gf_numeric,f=f_ej,x=x0)\n",
    "gf2_numeric_list<-lapply(h,gf2_numeric,f=f_ej,x=x0)\n",
    "\n",
    "\n",
    "err_absoluto_gf_res<-sapply(gf_numeric_list,err_absoluto,obj=gf(x_0))\n",
    "err_relativo_gf_res<-sapply(gf_numeric_list,err_relativo,obj=gf(x_0))\n",
    "\n",
    "err_absoluto_gf2_res<-sapply(gf2_numeric_list,err_absoluto,obj=gf2(x_0))\n",
    "err_relativo_gf2_res<-sapply(gf2_numeric_list,err_relativo,obj=gf2(x_0))"
   ]
  },
  {
   "cell_type": "code",
   "execution_count": 26,
   "metadata": {},
   "outputs": [],
   "source": [
    "gg<-ggplot()"
   ]
  },
  {
   "cell_type": "code",
   "execution_count": 27,
   "metadata": {},
   "outputs": [
    {
     "data": {
      "image/png": "[encoded data removed]",
      "text/plain": [
       "plot without title"
      ]
     },
     "metadata": {
      "image/png": {
       "height": 360,
       "width": 360
      }
     },
     "output_type": "display_data"
    }
   ],
   "source": [
    "gg+\n",
    "geom_line(aes(x=log(h),y=log(err_relativo_gf_res)))+\n",
    "ggtitle('Aproximación al gradiente por diferencias finitas')"
   ]
  },
  {
   "cell_type": "code",
   "execution_count": 28,
   "metadata": {},
   "outputs": [
    {
     "name": "stdout",
     "output_type": "stream",
     "text": [
      "[1] 1e-08 1e-08\n"
     ]
    }
   ],
   "source": [
    "print(c(h[which.min(err_relativo_gf_res)],h[which.min(err_absoluto_gf_res)]))"
   ]
  },
  {
   "cell_type": "code",
   "execution_count": 29,
   "metadata": {},
   "outputs": [
    {
     "data": {
      "image/png": "[encoded data removed]",
      "text/plain": [
       "plot without title"
      ]
     },
     "metadata": {
      "image/png": {
       "height": 360,
       "width": 360
      }
     },
     "output_type": "display_data"
    }
   ],
   "source": [
    "gg+\n",
    "geom_line(aes(x=log(h),y=log(err_relativo_gf2_res)))+\n",
    "ggtitle('Aproximación a la Hessiana por diferencias finitas')"
   ]
  },
  {
   "cell_type": "code",
   "execution_count": 30,
   "metadata": {},
   "outputs": [
    {
     "name": "stdout",
     "output_type": "stream",
     "text": [
      "[1] 1e-06 1e-06\n"
     ]
    }
   ],
   "source": [
    "print(c(h[which.min(err_relativo_gf2_res)],h[which.min(err_absoluto_gf2_res)]))"
   ]
  },
  {
   "cell_type": "markdown",
   "metadata": {},
   "source": [
    "**Ejercicio: aproximar $\\nabla f(x), \\nabla^2f(x)$ con diferencias hacia delante y $h \\in \\{10^{-16}, 10^{-14}, \\dots , 10^{-1}\\}$ para $f: \\mathbb{R}^3 \\rightarrow \\mathbb{R}$, dada por $f(x) = x_1x_2\\exp(x_1^2+x_3^2-5)$ en el punto $x_0=(1,3,-2)^T$ Realizar una gráfica de $\\log($Err_rel) vs $\\log($h).** \n"
   ]
  },
  {
   "cell_type": "markdown",
   "metadata": {},
   "source": [
    "**Solución:**\n",
    "\n",
    "Para esta función se tiene:"
   ]
  },
  {
   "cell_type": "markdown",
   "metadata": {},
   "source": [
    "$$\\nabla f(x) = \n",
    "\\left[ \\begin{array}{c}\n",
    "(2x_1+1)x_2\\exp(x_1^2+x_3^2-5)\\\\\n",
    "x_1\\exp(x_1^2+x_3^2-5)\\\\\n",
    "2x_1x_2x_3\\exp(x_1^2+x_3^2-5)\\\\\n",
    "\\end{array}\n",
    "\\right] ,\n",
    "$$"
   ]
  },
  {
   "cell_type": "markdown",
   "metadata": {},
   "source": [
    "$$\\nabla^2f(x)=\n",
    " \\left[\\begin{array}{cccc}\n",
    "6x_1x_2\\exp(x_1^2+x_3^2-5)+4x_1^3x_2\\exp(x_1^2+x_3^2-5) &(2x_1^2+1)\\exp(x_1^2+x_3^2-5) &(2x_1^2+1)2x_2x_3exp(x_1^2+x_3^2-5)\\\\\n",
    "(2x_1^2+1)\\exp(x_1^2+x_3^2-5) &0 &2x_1x_3exp(x_1^2+x_3^2-5)\\\\\n",
    "(2x_1^2+1)2x_2x_3exp(x_1^2+x_3^2-5) &2x_1x_3exp(x_1^2+x_3^2-5) &(2x_3^2+1)2x_1x_2exp(x_1^2+x_3^2-5)\\\\\n",
    "\\end{array}\n",
    "\\right]\n",
    "$$"
   ]
  },
  {
   "cell_type": "markdown",
   "metadata": {},
   "source": [
    "Y evaluando el gradiente en $x_0$:"
   ]
  },
  {
   "cell_type": "code",
   "execution_count": 18,
   "metadata": {},
   "outputs": [],
   "source": [
    "x_0<-c(1,3,-2)"
   ]
  },
  {
   "cell_type": "code",
   "execution_count": 19,
   "metadata": {},
   "outputs": [
    {
     "name": "stdout",
     "output_type": "stream",
     "text": [
      "[1]   9   1 -12\n"
     ]
    }
   ],
   "source": [
    "#gradiente de f calculado de forma simbólica\n",
    "gf<-function(x){\n",
    "    c((2*x[1]+1)*x[2]*exp(x[1]^2+x[3]^2-5),\n",
    "      x[1]*exp(x[1]^2+x[3]^2-5),\n",
    "      2*x[1]*x[2]*x[3]*exp(x[1]^2+x[3]^2-5))\n",
    "}\n",
    "print(gf(x_0))"
   ]
  },
  {
   "cell_type": "markdown",
   "metadata": {},
   "source": [
    "$$\\nabla f(x_0) = \n",
    "\\left[ \\begin{array}{c}\n",
    "9\\\\\n",
    "1\\\\\n",
    "-12\n",
    "\\end{array}\n",
    "\\right],\n",
    "$$"
   ]
  },
  {
   "cell_type": "markdown",
   "metadata": {},
   "source": [
    "para la Hessiana:"
   ]
  },
  {
   "cell_type": "markdown",
   "metadata": {},
   "source": [
    "$$\\nabla^2f(x)=\n",
    " \\left[\\begin{array}{cccc}\n",
    "6x_1x_2\\exp(x_1^2+x_3^2-5)+4x_1^3x_2\\exp(x_1^2+x_3^2-5) &(2x_1^2+1)\\exp(x_1^2+x_3^2-5) &(2x_1^2+1)2x_2x_3exp(x_1^2+x_3^2-5)\\\\\n",
    "(2x_1^2+1)\\exp(x_1^2+x_3^2-5) &0 &2x_1x_3exp(x_1^2+x_3^2-5)\\\\\n",
    "(2x_1^2+1)2x_2x_3exp(x_1^2+x_3^2-5) &2x_1x_3exp(x_1^2+x_3^2-5) &(2x_3^2+1)2x_1x_2exp(x_1^2+x_3^2-5)\\\\\n",
    "\\end{array}\n",
    "\\right]\n",
    "$$"
   ]
  },
  {
   "cell_type": "code",
   "execution_count": 21,
   "metadata": {},
   "outputs": [],
   "source": [
    "#Hessiana de f calculada de forma simbólica\n",
    "gf2<-function(x){\n",
    "    matrix(c(6*x[1]*x[2]*exp(x[1]^2+x[3]^2-5)+4*(x[1]^3)*x[2]*exp(x[1]^2+x[3]^2-5),\n",
    "             (2*(x[1]^2)+1)*exp(x[1]^2+x[3]^2-5),\n",
    "             (2*(x[1]^2)+1)*2*x[2]*x[3]*exp(x[1]^2+x[3]^2-5),\n",
    "             (2*(x[1]^2)+1)*exp(x[1]^2+x[3]^2-5),\n",
    "             0,\n",
    "             2*x[1]*x[3]*exp(x[1]^2+x[3]^2-5),\n",
    "             (2*(x[1]^2)+1)*2*x[2]*x[3]*exp(x[1]^2+x[3]^2-5),\n",
    "             2*x[1]*x[3]*exp(x[1]^2+x[3]^2-5),\n",
    "             (2*(x[3]^2)+1)*2*x[1]*x[2]*exp(x[1]^2+x[3]^2-5)),nrow=3,ncol=3)\n",
    "}"
   ]
  },
  {
   "cell_type": "code",
   "execution_count": 22,
   "metadata": {},
   "outputs": [
    {
     "name": "stdout",
     "output_type": "stream",
     "text": [
      "     [,1] [,2] [,3]\n",
      "[1,]   30    3  -36\n",
      "[2,]    3    0   -4\n",
      "[3,]  -36   -4   54\n"
     ]
    }
   ],
   "source": [
    "print(gf2(x_0))"
   ]
  },
  {
   "cell_type": "markdown",
   "metadata": {},
   "source": [
    "$$\\nabla^2f(x)=\n",
    " \\left[\\begin{array}{cccc}\n",
    "30 &3&-36\\\\\n",
    "3&0&-4\\\\\n",
    "-36&-4&54\\\\\n",
    "\\end{array}\n",
    "\\right]\n",
    "$$"
   ]
  },
  {
   "cell_type": "markdown",
   "metadata": {},
   "source": [
    "Ahora calculamos el gradiente y la Hessiana de forma numérica con la aproximación por diferencias hacia delante:"
   ]
  },
  {
   "cell_type": "code",
   "execution_count": 23,
   "metadata": {},
   "outputs": [],
   "source": [
    "#definición de función y punto en el que se calculan las aproximaciones\n",
    "f_ej<-function(x){\n",
    "    x[1]*x[2]*exp(x[1]^2+x[3]^2-5)\n",
    "}\n",
    "x0<-x_0"
   ]
  },
  {
   "cell_type": "code",
   "execution_count": 24,
   "metadata": {},
   "outputs": [],
   "source": [
    "#Función auxiliar para incrementar una entrada de un vector\n",
    "#por una cantidad h\n",
    "inc_index<-function(vec,index,h){\n",
    "    vec[index]<-vec[index]+h\n",
    "    vec}"
   ]
  },
  {
   "cell_type": "code",
   "execution_count": 25,
   "metadata": {},
   "outputs": [],
   "source": [
    "#Función para aproximar el gradiente de f\n",
    "#f: función a la que se le aproximará su gradiente\n",
    "#x: punto en el que se aproximará el gradiente de f\n",
    "#h: valor de h para diferencias hacia delante\n",
    "#gf: aproximación al gradiente de f por diferencias hacia delante\n",
    "gf_numeric<-function(f,x,h){\n",
    "    n<-length(x)\n",
    "    gf<-rep(0,n)\n",
    "    for(i in 1:n){\n",
    "        gf[i]=(f(inc_index(x,i,h))-f(x))\n",
    "    }\n",
    "    gf/h\n",
    "}"
   ]
  },
  {
   "cell_type": "code",
   "execution_count": 26,
   "metadata": {},
   "outputs": [],
   "source": [
    "#Función para aproximar la Hessiana de f\n",
    "#f: función a la que se le aproximará su Hessiana\n",
    "#x: punto en el que se aproximará la Hessiana de f\n",
    "#h: valor de h para diferencias hacia delante\n",
    "#Hf: aproximación a la Hessiana de f por diferencias hacia delante\n",
    "gf2_numeric<-function(f,x,h){\n",
    "    n<-length(x)\n",
    "    Hf<-matrix(rep(0,n^2),nrow=n,ncol=n)\n",
    "    f_x<-f(x)\n",
    "    for(i in 1:n){\n",
    "        x_inc_in_i<-inc_index(x,i,h)\n",
    "        f_x_inc_in_i<-f(x_inc_in_i)\n",
    "        for(j in i:n){\n",
    "            #otra forma para dif:\n",
    "            #dif<-f(inc_index(inc_index(x,j,h),i,h))-f_x_inc_in_i-f(inc_index(x,j,h))+f_x\n",
    "            dif<-f(inc_index(x_inc_in_i,j,h))-f_x_inc_in_i-f(inc_index(x,j,h))+f_x\n",
    "            Hf[i,j]<-dif\n",
    "            if(j!=i)\n",
    "                Hf[j,i]<-dif\n",
    "        }\n",
    "    }\n",
    "    Hf/h^2\n",
    "}"
   ]
  },
  {
   "cell_type": "code",
   "execution_count": 27,
   "metadata": {},
   "outputs": [],
   "source": [
    "h<-10^(-1*(1:16))#un conjunto de valores de h para diferencias hacia delante\n",
    "err_absoluto<-function(aprox,obj){\n",
    "    norm(aprox-obj,\"2\") #cálculo de norma vectorial o matricial, depende de lo que recibe\n",
    "                        #la función en sus parámetros aprox y obj\n",
    "}\n",
    "\n",
    "err_relativo<-function(aprox,obj){\n",
    "    norm(aprox-obj,\"2\")/norm(obj,\"2\")#cálculo de norma vectorial o matricial, depende de lo que recibe\n",
    "                                     #la función en sus parámetros aprox y obj\n",
    "}\n",
    "\n",
    "gf_numeric_list<-lapply(h,gf_numeric,f=f_ej,x=x0)\n",
    "gf2_numeric_list<-lapply(h,gf2_numeric,f=f_ej,x=x0)\n",
    "\n",
    "\n",
    "err_absoluto_gf_res<-sapply(gf_numeric_list,err_absoluto,obj=gf(x_0))\n",
    "err_relativo_gf_res<-sapply(gf_numeric_list,err_relativo,obj=gf(x_0))\n",
    "\n",
    "err_absoluto_gf2_res<-sapply(gf2_numeric_list,err_absoluto,obj=gf2(x_0))\n",
    "err_relativo_gf2_res<-sapply(gf2_numeric_list,err_relativo,obj=gf2(x_0))"
   ]
  },
  {
   "cell_type": "code",
   "execution_count": 28,
   "metadata": {},
   "outputs": [],
   "source": [
    "h<-10^(-1*(1:16))#un conjunto de valores de h para diferencias hacia delante\n",
    "err_absoluto<-function(aprox,obj){\n",
    "    norm(aprox-obj,\"2\") #cálculo de norma vectorial o matricial, depende de lo que recibe\n",
    "                        #la función en sus parámetros aprox y obj\n",
    "}\n",
    "\n",
    "err_relativo<-function(aprox,obj){\n",
    "    norm(aprox-obj,\"2\")/norm(obj,\"2\")#cálculo de norma vectorial o matricial, depende de lo que recibe\n",
    "                                     #la función en sus parámetros aprox y obj\n",
    "}\n",
    "\n",
    "\n",
    "\n",
    "gf_numeric_list<-lapply(h,gf_numeric,f=f_ej,x=x0)\n",
    "gf2_numeric_list<-lapply(h,gf2_numeric,f=f_ej,x=x0)\n",
    "\n",
    "\n",
    "err_absoluto_gf_res<-sapply(gf_numeric_list,err_absoluto,obj=gf(x_0))\n",
    "err_relativo_gf_res<-sapply(gf_numeric_list,err_relativo,obj=gf(x_0))\n",
    "\n",
    "err_absoluto_gf2_res<-sapply(gf2_numeric_list,err_absoluto,obj=gf2(x_0))\n",
    "err_relativo_gf2_res<-sapply(gf2_numeric_list,err_relativo,obj=gf2(x_0))"
   ]
  },
  {
   "cell_type": "code",
   "execution_count": 29,
   "metadata": {},
   "outputs": [],
   "source": [
    "library(ggplot2)\n",
    "gg<-ggplot()"
   ]
  },
  {
   "cell_type": "code",
   "execution_count": 30,
   "metadata": {},
   "outputs": [
    {
     "data": {
      "image/png": "[encoded data removed]",
      "text/plain": [
       "plot without title"
      ]
     },
     "metadata": {
      "image/png": {
       "height": 420,
       "width": 420
      }
     },
     "output_type": "display_data"
    }
   ],
   "source": [
    "gg+\n",
    "geom_line(aes(x=log(h),y=log(err_relativo_gf_res)))+\n",
    "ggtitle('Aproximacion al gradiente por diferencias finitas')"
   ]
  },
  {
   "cell_type": "markdown",
   "metadata": {},
   "source": [
    "El valor de $h$ que minimiza a los errores absoluto y relativo es:"
   ]
  },
  {
   "cell_type": "code",
   "execution_count": 32,
   "metadata": {},
   "outputs": [
    {
     "name": "stdout",
     "output_type": "stream",
     "text": [
      "[1] 1e-08 1e-08\n"
     ]
    }
   ],
   "source": [
    "print(c(h[which.min(err_relativo_gf_res)],h[which.min(err_absoluto_gf_res)]))"
   ]
  },
  {
   "cell_type": "code",
   "execution_count": 33,
   "metadata": {},
   "outputs": [
    {
     "data": {
      "image/png": "[encoded data removed]",
      "text/plain": [
       "plot without title"
      ]
     },
     "metadata": {
      "image/png": {
       "height": 420,
       "width": 420
      }
     },
     "output_type": "display_data"
    }
   ],
   "source": [
    "gg+\n",
    "geom_line(aes(x=log(h),y=log(err_relativo_gf2_res)))+\n",
    "ggtitle('Aproximacion a la Hessiana por diferencias finitas')"
   ]
  },
  {
   "cell_type": "markdown",
   "metadata": {},
   "source": [
    "El valor de $h$ que minimiza a los errores absoluto y relativo es:"
   ]
  },
  {
   "cell_type": "code",
   "execution_count": 34,
   "metadata": {},
   "outputs": [
    {
     "name": "stdout",
     "output_type": "stream",
     "text": [
      "[1] 1e-05 1e-05\n"
     ]
    }
   ],
   "source": [
    "print(c(h[which.min(err_relativo_gf2_res)],h[which.min(err_absoluto_gf2_res)]))"
   ]
  },
  {
   "cell_type": "markdown",
   "metadata": {},
   "source": [
    "---"
   ]
  },
  {
   "cell_type": "markdown",
   "metadata": {},
   "source": [
    "# Definiciones utilizadas en el curso (algunas de ellas...)"
   ]
  },
  {
   "cell_type": "markdown",
   "metadata": {},
   "source": [
    "Notación: $f: A \\rightarrow B$ es una función de un conjunto $\\text{dom}f \\subseteq A$ en un conjunto $B$.\n",
    "\n",
    "**Obs:** $\\text{dom}f$ (el dominio de $f$) podría ser un subconjunto propio de $A$, esto es, algunos elementos de $A$ y otros no, son mapeados a elementos de $B$.\n",
    "\n",
    "En lo siguiente $\\text{intdom}f$ es el **interior**$^*$ del dominio de $f$. \n",
    "\n",
    "$^*$El interior es el conjunto de **puntos interiores**: un punto $x$ de un conjunto $X$ se llama interior si existe una **vecindad** de $x$ (conjunto abierto$^*$ que contiene a $x$) contenida en $X$.\n",
    "\n",
    "$^*$Un conjunto $X$ se dice que es **abierto** si $\\forall x \\in X$ existe una bola abierta$^*$ centrada en $x$ y contenida en $X$.\n",
    "\n",
    "$^*$Una **bola abierta** con radio $\\epsilon>0$ y centrada en $x$ es el conjunto: $B_\\epsilon(x) =\\{y \\in \\mathbb{R}^n | ||y-x|| < \\epsilon\\}$."
   ]
  },
  {
   "cell_type": "markdown",
   "metadata": {},
   "source": [
    "**Continuidad**"
   ]
  },
  {
   "cell_type": "markdown",
   "metadata": {},
   "source": [
    "$f: \\mathbb{R}^n \\rightarrow \\mathbb{R}^m$ es continua en $x \\in \\text{dom}f$ si $\\forall \\epsilon >0 \\exists \\delta > 0 $ tal que:\n",
    "\n",
    "$$y \\in \\text{dom}f, ||y-x||_2 \\leq \\delta \\implies ||f(y)-f(x)||_2 \\leq \\epsilon$$"
   ]
  },
  {
   "cell_type": "markdown",
   "metadata": {},
   "source": [
    "**Obs:** \n",
    "\n",
    "* $f$ continua en un punto $x$ del dominio de $f$ entonces $f(y)$ es arbitrariamente cercana a $f(x)$ para $y$ en el dominio de $f$ cercana a $x$.\n",
    "\n",
    "* Otra forma de definir que $f$ sea continua en $x \\in \\text{dom}f$ es con sucesiones y límites: si $\\{x_i\\}_{i \\in \\mathbb{N}} \\subseteq \\text{dom}f$ es una sucesión de puntos en el dominio de $f$ que converge a $x \\in \\text{dom}f$, $\\displaystyle \\lim_{i \\rightarrow \\infty}x_i = x$, y $f$ es continua en $x$ entonces la sucesión $\\{f(x_i)\\}_{i \\in \\mathbb{N}}$ converge a $f(x)$: $\\displaystyle \\lim_{i \\rightarrow \\infty}f(x_i) = f(x) = f \\left(\\displaystyle \\lim_{i \\rightarrow \\infty} x_i \\right )$."
   ]
  },
  {
   "cell_type": "markdown",
   "metadata": {},
   "source": [
    "**Notación:** $\\mathcal{C}([a,b])=\\{\\text{funciones } f:\\mathbb{R} \\rightarrow \\mathbb{R} \\text{ continuas en el intervalo [a,b]}\\}$."
   ]
  },
  {
   "cell_type": "markdown",
   "metadata": {},
   "source": [
    "## Función Diferenciable"
   ]
  },
  {
   "cell_type": "markdown",
   "metadata": {},
   "source": [
    "### Caso $f: \\mathbb{R} \\rightarrow \\mathbb{R}$"
   ]
  },
  {
   "cell_type": "markdown",
   "metadata": {},
   "source": [
    "$f$ es diferenciable en $x_0 \\in (a,b)$ si $\\displaystyle \\lim_{x \\rightarrow x_0} \\frac{f(x)-f(x_0)}{x-x_0}$ existe y escribimos:\n",
    "\n",
    "$$f^{(1)}(x_0) = \\displaystyle \\lim_{x \\rightarrow x_0} \\frac{f(x)-f(x_0)}{x-x_0}.$$\n",
    "\n",
    "$f$ es diferenciable en $[a,b]$ si es diferenciable en cada punto de $[a,b]$. Análogamente definiendo la variable $h=x-x_0$ se tiene:\n"
   ]
  },
  {
   "cell_type": "markdown",
   "metadata": {},
   "source": [
    "$f^{(1)}(x_0) = \\displaystyle \\lim_{h \\rightarrow 0} \\frac{f(x_0+h)-f(x_0)}{h}$ que típicamente se escribe como:\n",
    "\n",
    "$$f^{(1)}(x) = \\displaystyle \\lim_{h \\rightarrow 0} \\frac{f(x+h)-f(x)}{h}.$$"
   ]
  },
  {
   "cell_type": "markdown",
   "metadata": {},
   "source": [
    "**Comentario:** si $f$ es diferenciable en $x_0$ entonces $f(x) \\approx f(x_0) + f^{(1)}(x_0)(x-x_0)$. Gráficamente:"
   ]
  },
  {
   "cell_type": "markdown",
   "metadata": {},
   "source": [
    "<img src=\"https://dl.dropboxusercontent.com/s/3t13ku6pk1pjwxo/f_diferenciable.png?dl=0\" heigth=\"500\" width=\"500\">\n",
    "\n"
   ]
  },
  {
   "cell_type": "markdown",
   "metadata": {},
   "source": [
    "**Notación:** $\\mathcal{C}^n([a,b])=\\{\\text{funciones } f:\\mathbb{R} \\rightarrow \\mathbb{R} \\text{ con } n \\text{ derivadas continuas en el intervalo [a,b]}\\}$."
   ]
  },
  {
   "cell_type": "markdown",
   "metadata": {},
   "source": [
    "### Caso $f: \\mathbb{R}^n \\rightarrow \\mathbb{R}^m$"
   ]
  },
  {
   "cell_type": "markdown",
   "metadata": {},
   "source": [
    "$f$ es diferenciable en $x \\in \\text{intdom}f$ si existe una matriz $Df(x) \\in \\mathbb{R}^{m\\times n}$ tal que:\n",
    "\n",
    "$$\\displaystyle \\lim_{z \\rightarrow x, z \\neq x} \\frac{||f(z)-f(x)-Df(x)(z-x)||_2}{||z-x||_2} = 0, z \\in \\text{dom}f$$\n",
    "\n",
    "en este caso $Df(x)$ se llama la derivada de $f$ en $x$.\n",
    "\n",
    "**Obs:** sólo puede existir a lo más una matriz que satisfaga el límite anterior.\n",
    "\n",
    "**Comentarios:**\n",
    "\n",
    "* $Df(x)$ también es llamada la **Jacobiana** de $f$.\n",
    "\n",
    "* Se dice que $f$ es diferenciable si $\\text{dom}f$ es abierto y es diferenciable en cada punto de $domf.$\n",
    "\n",
    "* La función: $f(x) + Df(x)(z-x)$ es afín y se le llama **aproximación de orden $1$** de $f$ en $x$ (o también cerca de $x$). Para $z$ cercana a $x$ ésta aproximación es cercana a $f(z)$.\n",
    "\n",
    "* $Df(x)$ puede encontrarse con la definición de límite anterior o con las derivadas parciales: $Df(x)_{ij} = \\frac{\\partial f_i(x)}{\\partial x_j}, i=1,\\dots,m, j=1,\\dots,n$ definidas como:\n",
    "\n",
    "$$\\frac{\\partial f_i(x)}{\\partial x_j} = \\displaystyle \\lim_{h \\rightarrow 0} \\frac{f_i(x+he_j)-f_i(x)}{h}$$\n",
    "\n",
    "donde: $f_i : \\mathbb{R}^n \\rightarrow \\mathbb{R}$, $i=1,\\dots,m,j=1,\\dots,n$ y $e_j$ $j$-ésimo vector canónico que tiene un número $1$ en la posición $j$ y $0$ en las entradas restantes.\n",
    "\n",
    "* Si $f: \\mathbb{R}^n \\rightarrow \\mathbb{R}, Df(x) \\in \\mathbb{R}^{1\\times n}$, su transpuesta se llama **gradiente**, el cual es un vector columna, se denota $\\nabla f(x)$ y sus componentes son derivadas parciales: "
   ]
  },
  {
   "cell_type": "markdown",
   "metadata": {},
   "source": [
    "$$\\nabla f(x) = Df(x)^T = \n",
    "    \\left[ \\begin{array}{c}\n",
    "    \\frac{\\partial f(x)}{\\partial x_1}\\\\\n",
    "    \\vdots\\\\\n",
    "    \\frac{\\partial f(x)}{\\partial x_n}\n",
    "    \\end{array}\n",
    "    \\right] = \\left[ \n",
    "    \\begin{array}{c} \n",
    "    \\displaystyle \\lim_{h \\rightarrow 0} \\frac{f(x+he_1) - f(x)}{h}\\\\\n",
    "    \\vdots\\\\\n",
    "    \\displaystyle \\lim_{h \\rightarrow 0} \\frac{f(x+he_n) - f(x)}{h}\n",
    "    \\end{array}\n",
    "    \\right] \\in \\mathbb{R}^{n\\times 1}.$$\n"
   ]
  },
  {
   "cell_type": "markdown",
   "metadata": {},
   "source": [
    "**Comentario:** en este contexto, la aproximación de primer orden a $f$ en $x$ es: $f(x) + \\nabla f(x)^T(z-x)$ para $z$ cercana a $x$."
   ]
  },
  {
   "cell_type": "markdown",
   "metadata": {},
   "source": [
    "## Regla de la cadena"
   ]
  },
  {
   "cell_type": "markdown",
   "metadata": {},
   "source": [
    "Si $f:\\mathbb{R}^n \\rightarrow \\mathbb{R}^m$ es diferenciable en $x\\in \\text{intdom}f$ y $g:\\mathbb{R}^m \\rightarrow \\mathbb{R}^p$ es diferenciable en $f(x)\\in \\text{intdom}g$, se define la composición $h:\\mathbb{R}^n \\rightarrow \\mathbb{R}^p$ por $h(z) = g(f(z))$, la cual es diferenciable en $x$, con derivada:\n",
    "\n",
    "$$Dh(x)=Dg(f(x))Df(x)\\in \\mathbb{R}^{p\\times n}.$$"
   ]
  },
  {
   "cell_type": "markdown",
   "metadata": {},
   "source": [
    "**Ejemplo:** Sean $g:\\mathbb{R} \\rightarrow \\mathbb{R}$, $f:\\mathbb{R}^n \\rightarrow \\mathbb{R}$, $h:\\mathbb{R}^n \\rightarrow \\mathbb{R}$ con $h(z) = g(f(z))$ entonces: \n",
    "\n",
    "$$Dh(x) = Dg(f(x))Df(x) = \\frac{dg(f(x))}{dx}(\\nabla f(x))^T \\in \\mathbb{R}^{1\\times n}$$"
   ]
  },
  {
   "cell_type": "markdown",
   "metadata": {},
   "source": [
    "y la transpuesta de $Dh(x)$ es: $\\nabla h(x) = (Dh(x))^T = \\frac{dg(f(x))}{dx} \\nabla f(x) \\in \\mathbb{R}^{n\\times 1}$."
   ]
  },
  {
   "cell_type": "markdown",
   "metadata": {},
   "source": [
    "### Caso particular:\n",
    "\n",
    "Si $f: \\mathbb{R}^n \\rightarrow \\mathbb{R}^m$, $f(x) = Ax +b$ con $A \\in \\mathbb{R}^{m\\times n},b \\in \\mathbb{R}^m$, $g:\\mathbb{R}^m \\rightarrow \\mathbb{R}^p$ y $h(z)=g(f(z))=g(Az+b)$ con $\\text{dom}h=\\{x \\in \\mathbb{R}^n | Ax+b \\in \\text{dom}g\\}$ entonces la derivada de $h$ en $x$ es: $Dh(x) = Dg(f(x))Df(x)=Dg(Ax+b)A$"
   ]
  },
  {
   "cell_type": "markdown",
   "metadata": {},
   "source": [
    "**Obs:** Si $f:\\mathbb{R}^n \\rightarrow \\mathbb{R}^m, g:\\mathbb{R}^m \\rightarrow \\mathbb{R}, h:\\mathbb{R}^n \\rightarrow \\mathbb{R}$ entonces: $\\nabla h(x) = (Dh(x))^T = A^T(Dg(Ax+b))^T=A^T\\nabla g(Ax+b) \\in \\mathbb{R}^{n\\times 1}$."
   ]
  },
  {
   "cell_type": "markdown",
   "metadata": {},
   "source": [
    "**Ejemplo:**"
   ]
  },
  {
   "cell_type": "markdown",
   "metadata": {},
   "source": [
    "1) Sean $g:\\mathbb{R}^n \\rightarrow \\mathbb{R}, x, v \\in \\mathbb{R}^n$ y $\\hat{g}: \\mathbb{R} \\rightarrow \\mathbb{R}$ con $\\hat{g}(t)=g(x+tv)$, esto es, $\\hat{g}$ es $g$ restringida a la línea $\\{x+tv |t \\in \\mathbb{R} \\}$, entonces:\n",
    "\n",
    "$$(\\nabla \\hat{g}(t))^T = D\\hat{g}(t) = \\hat{g}^{(1)}(t) = (\\nabla g(x+tv))^Tv.$$"
   ]
  },
  {
   "cell_type": "markdown",
   "metadata": {},
   "source": [
    "**Comentario:** el escalar $\\hat{g}^{(1)}(0) = (\\nabla g(x))^Tv$ se llama **derivada direccional** de $g$ en $x$ en la dirección $v$."
   ]
  },
  {
   "cell_type": "markdown",
   "metadata": {},
   "source": [
    "2) Sea $h: \\mathbb{R}^n \\rightarrow \\mathbb{R}, h(x) = \\log \\left( \\displaystyle \\sum_{i=1}^m \\exp(a_i^Tx+b_i) \\right)$ con $x\\in \\mathbb{R}^n,a_i\\in \\mathbb{R}^n \\forall i=1,\\dots,m$ y $b_i \\in \\mathbb{R} \\forall i=1,\\dots,m$ entonces: $Dh(x)=Dg(f(x))Df(x)$ con $g: \\mathbb{R}^m \\rightarrow \\mathbb{R}$ dada por $g(y)=\\log \\left( \\displaystyle \\sum_{i=1}^m \\exp(y_i) \\right ), f(x)=Ax+b, A=(a_i)_{i=1}^m \\in \\mathbb{R}^{m\\times n}, b \\in \\mathbb{R}^m.$ y $h(x)=g(f(x))$. Entonces:\n",
    "\n",
    "$$\n",
    "Dh(x)=\\left(\\displaystyle \\sum_{i=1}^m\\exp(a_i^Tx+b_i) \\right)^{-1}\\left[ \\begin{array}{c}\n",
    "    \\exp(a_1^Tx+b_1)\\\\\n",
    "    \\vdots\\\\\n",
    "    \\exp(a_m^Tx+b_m)\n",
    "    \\end{array}\n",
    "    \\right]A=(1^Tz)^{-1}z^TA\n",
    "$$\n",
    "\n",
    "donde: $z=\\left[ \\begin{array}{c}\n",
    "    \\exp(a_1^Tx+b_1)\\\\\n",
    "    \\vdots\\\\\n",
    "    \\exp(a_m^Tx+b_m)\n",
    "    \\end{array}\\right]$. Por lo tanto $\\nabla h(x) = (1^Tz)^{-1}A^Tz$."
   ]
  },
  {
   "cell_type": "markdown",
   "metadata": {},
   "source": [
    "## Segunda derivada de una función $f: \\mathbb{R}^n \\rightarrow \\mathbb{R}$."
   ]
  },
  {
   "cell_type": "markdown",
   "metadata": {},
   "source": [
    "Sea $f:\\mathbb{R}^n \\rightarrow \\mathbb{R}$. La segunda derivada o matriz **Hessiana** de $f$ en $x \\in \\text{intdom}f$ existe si $f$ es dos veces diferenciable en $x$, se denota $\\nabla^2f(x)$ y sus componentes son segundas derivadas parciales:"
   ]
  },
  {
   "cell_type": "markdown",
   "metadata": {},
   "source": [
    "$$\\nabla^2f(x) = \\left[\\begin{array}{cccc}\n",
    "\\frac{\\partial^2f(x)}{\\partial x_1^2} &\\frac{\\partial^2f(x)}{\\partial x_2 \\partial x_1}&\\dots&\\frac{\\partial^2f(x)}{\\partial x_n \\partial x_1}\\\\\n",
    "\\frac{\\partial^2f(x)}{\\partial x_1 \\partial x_2} &\\frac{\\partial^2f(x)}{\\partial x_2^2} &\\dots&\\frac{\\partial^2f(x)}{\\partial x_n \\partial x_2}\\\\\n",
    "\\vdots &\\vdots& \\ddots&\\vdots\\\\\n",
    "\\frac{\\partial^2f(x)}{\\partial x_1 \\partial x_n} &\\frac{\\partial^2f(x)}{\\partial x_2 \\partial x_n}&\\dots&\\frac{\\partial^2f(x)}{\\partial x_n^2} \\\\\n",
    "\\end{array}\n",
    "\\right]\n",
    "$$"
   ]
  },
  {
   "cell_type": "markdown",
   "metadata": {},
   "source": [
    "**Comentarios:**\n",
    "\n",
    "* La aproximación de segundo orden a $f$ en $x$ (o también para puntos cercanos a $x$) es la función cuadrática:\n",
    "\n",
    "$$f(x) + (\\nabla f(x))^T(z-x)+\\frac{1}{2}(z-x)^T\\nabla^2f(x)(z-x)$$\n",
    "\n",
    "la cual es una función de $z$."
   ]
  },
  {
   "cell_type": "markdown",
   "metadata": {},
   "source": [
    "* Se cumple:\n",
    "\n",
    "$$\\displaystyle \\lim_{z \\rightarrow x, z \\neq x} \\frac{|f(z)-[f(x)+(\\nabla f(x))^T(z-x)+\\frac{1}{2}(z-x)^T\\nabla^2f(x)(z-x)]|}{||z-x||_2} = 0, z \\in \\text{dom}f$$\n",
    "\n",
    "* Se tiene lo siguiente:\n",
    "\n",
    "    * $\\nabla f$ es una función llamada gradient mapping (o simplemente gradiente).\n",
    "\n",
    "    * $\\nabla f:\\mathbb{R}^n \\rightarrow \\mathbb{R}^n$ con regla de correspondencia es $\\nabla f(x)$ (evaluar en $x$ la matriz $(Df(x))^T$), $\\text{dom}\\nabla f = \\text{dom}f$.\n",
    "\n",
    "    * Si $f$ es dos veces diferenciable entonces: $D\\nabla f(x) = \\nabla^2f(x)$."
   ]
  },
  {
   "cell_type": "markdown",
   "metadata": {},
   "source": [
    "## Regla de la cadena para la segunda derivada"
   ]
  },
  {
   "cell_type": "markdown",
   "metadata": {},
   "source": [
    "**Caso 1:** Sean $f:\\mathbb{R}^n \\rightarrow \\mathbb{R}, g:\\mathbb{R} \\rightarrow \\mathbb{R}, h:\\mathbb{R}^n \\rightarrow \\mathbb{R}$ con  $h(x) = g(f(x))$, entonces: $\\nabla^2h(x) = D\\nabla h(x)$ y $\\nabla h(x)=(Dh(x))^T = (Dg(f(x))Df(x))^T=\\frac{dg(x)}{dx}\\nabla f(x)$ por lo que:\n",
    "\n",
    "$\\nabla^2 h(x) = D\\nabla h(x)=D \\left(\\frac{dg(f(x))}{dx}\\nabla f(x)\\right) = \\frac{dg(f(x))}{dx}\\nabla^2 f(x)+\\left(\\frac{d^2g(f(x))}{dx}\\nabla f(x) (\\nabla f(x))^T \\right)^T=\\frac{dg(f(x))}{dx}\\nabla^2 f(x)+\\frac{d^2g(f(x))}{dx} \\nabla f(x) (\\nabla f(x))^T$\n"
   ]
  },
  {
   "cell_type": "markdown",
   "metadata": {},
   "source": [
    "**Caso 2:** Sean $f:\\mathbb{R}^n \\rightarrow \\mathbb{R}^m, f(x) = Ax+b, A \\in \\mathbb{R}^{m\\times n}, b \\in \\mathbb{R}^m$ y $h(x) = g(f(x))$ con $g:\\mathbb{R}^m \\rightarrow \\mathbb{R}^p, h:\\mathbb{R}^n \\rightarrow \\mathbb{R}^p$, entonces:\n",
    "\n"
   ]
  },
  {
   "cell_type": "markdown",
   "metadata": {},
   "source": [
    "$$\\nabla h(x) = (Dh(x))^T = (Dg(f(x))Df(x))^T = (Dg(Ax+b)A)^T = A^TDg(Ax+b).$$\n",
    "\n",
    "**Obs:** si $p=1$ se tiene: $\\nabla^2h(x) = D \\nabla h(x) = A^T \\nabla^2g(Ax+b)A.$"
   ]
  },
  {
   "cell_type": "markdown",
   "metadata": {},
   "source": [
    "**Ejemplos:**\n",
    "\n",
    "* Sea $\\hat{g}(t) = g(x+tv)$ con $x,v \\in \\mathbb{R}^n, t \\in \\mathbb{R}$ y $g:\\mathbb{R}^n \\rightarrow \\mathbb{R}$, $\\hat{g}: \\mathbb{R} \\rightarrow \\mathbb{R}$ es decir, $\\hat{g}$ es $g$ restringida a la línea $\\{x+tv|t \\in \\mathbb{R}\\}$, entonces:\n",
    "\n",
    "$$(\\nabla \\hat{g}(t))^T = D\\hat{g}(t) = \\frac{\\hat{g}(t)}{dt} = Dg(x+tv)v = \\nabla g(x+tv)^Tv$$\n",
    "\n",
    "y:"
   ]
  },
  {
   "cell_type": "markdown",
   "metadata": {},
   "source": [
    "$$\\nabla^2 \\hat{g}(t) = \\frac{d^2\\hat{g}(t)}{dt^2} = D\\nabla g(x+tv)v=v^T\\nabla^2g(x+tv)v.$$"
   ]
  },
  {
   "cell_type": "markdown",
   "metadata": {},
   "source": [
    "* Sean $h: \\mathbb{R}^n \\rightarrow \\mathbb{R}, h(x) = \\log \\left( \\displaystyle \\sum_{i=1}^m \\exp(a_i^Tx+b_i)\\right)$ con $x \\in \\mathbb{R}^n, a_i \\in \\mathbb{R}^n \\forall i=1,\\dots,m$ y $b_i \\in \\mathbb{R} \\forall i=1,\\dots,m$. Entonces: $Dh(x)=Dg(f(x))Df(x)$ con $g(y) = \\log \\left( \\displaystyle \\sum_{i=1}^m \\exp(y_i)\\right ), f(x) = Ax+b, A=(a_i)_{i=1}^m \\in \\mathbb{R}^{m\\times n}, b \\in \\mathbb{R}^m, h(x) = g(f(x))$.\n",
    "\n",
    "Como se desarrolló anteriormente $\\nabla h(x) = (1^Tz)^{-1}A^Tz$ con $z=\\left[ \\begin{array}{c}\n",
    "    \\exp(a_1^Tx+b_1)\\\\\n",
    "    \\vdots\\\\\n",
    "    \\exp(a_m^Tx+b_m)\n",
    "    \\end{array}\\right]$.\n",
    "\n",
    "$$\\therefore \\nabla^2 h(x) = D\\nabla h(x) = A^T \\nabla^2g(Ax+b)A\\text{ (por caso }2)$$ "
   ]
  },
  {
   "cell_type": "markdown",
   "metadata": {},
   "source": [
    "donde: $\\nabla^2g(y)=(1^Ty)^{-1}\\text{diag}(y)-(1^Ty)^{-2}yy^T $ (por caso $1$ tomando $\\log:\\mathbb{R} \\rightarrow \\mathbb{R}, \\sum \\exp: \\mathbb{R}^m \\rightarrow \\mathbb{R}$)\n",
    "    \n",
    "    "
   ]
  },
  {
   "cell_type": "markdown",
   "metadata": {},
   "source": [
    "$$\\therefore  \\nabla^2 h(x) = A^T\\left[(1^Tz)^{-1}\\text{diag}(z)-(1^Tz)^{-2}zz^T \\right]A$$\n",
    "\n",
    "con $\\text{diag}(c)$ matriz diagonal con elementos en su diagonal iguales a las entradas del vector $c$."
   ]
  },
  {
   "cell_type": "markdown",
   "metadata": {},
   "source": [
    "**Ejercicios**\n",
    "\n",
    "1. Resuelve los ejercicios y preguntas de la nota.\n",
    "\n"
   ]
  },
  {
   "cell_type": "markdown",
   "metadata": {},
   "source": [
    "**Referencias**\n",
    "\n",
    "1. R. L. Burden, J. D. Faires, Numerical Analysis, Brooks/Cole Cengage Learning, 2005.\n",
    "\n",
    "2. M. T. Heath, Scientific Computing. An Introductory Survey, McGraw-Hill, 2002.\n",
    "\n",
    "3. S. P. Boyd, L. Vandenberghe, Convex Optimization. Cambridge University Press, 2004.\n",
    "\n",
    "4. Nota [1.2.Sistema de punto flotante](https://github.com/ITAM-DS/analisis-numerico-computo-cientifico/blob/master/temas/I.computo_cientifico/1.2.Sistema_de_punto_flotante.ipynb).\n",
    "\n",
    "5. Nota [1.3.Condicion_de_un_problema_y_estabilidad_de_un_algoritmo](https://github.com/ITAM-DS/analisis-numerico-computo-cientifico/blob/master/temas/I.computo_cientifico/1.3.Condicion_de_un_problema_y_estabilidad_de_un_algoritmo.ipynb).\n"
   ]
  },
  {
   "cell_type": "code",
   "execution_count": null,
   "metadata": {},
   "outputs": [],
   "source": []
  }
 ],
 "metadata": {
  "kernelspec": {
   "display_name": "R",
   "language": "R",
   "name": "ir"
  },
  "language_info": {
   "codemirror_mode": "r",
   "file_extension": ".r",
   "mimetype": "text/x-r-source",
   "name": "R",
   "pygments_lexer": "r",
   "version": "3.6.2"
  }
 },
 "nbformat": 4,
 "nbformat_minor": 4
}
